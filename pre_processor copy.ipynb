{
 "cells": [
  {
   "cell_type": "code",
   "execution_count": 1,
   "metadata": {},
   "outputs": [],
   "source": [
    "import os\n",
    "import cv2\n",
    "from tqdm import tqdm\n",
    "import numpy as np"
   ]
  },
  {
   "cell_type": "code",
   "execution_count": 2,
   "metadata": {},
   "outputs": [
    {
     "name": "stderr",
     "output_type": "stream",
     "text": [
      "Processing full_forg:  35%|███▍      | 461/1321 [04:06<07:21,  1.95it/s]"
     ]
    }
   ],
   "source": [
    "path = \"D://cedar_dataset/\"\n",
    "signature_types = os.listdir(path)\n",
    "image_size = 227\n",
    "for i in signature_types:\n",
    "  data_path = path + str(i)\n",
    "  filenames = [i for i in os.listdir(data_path)]\n",
    "  for f in tqdm(filenames, desc=f\"Processing {i}\"):\n",
    "    if f.endswith(\".db\"):\n",
    "      pass\n",
    "    else:\n",
    "      img = cv2.imread(data_path + \"/\" + f)\n",
    "      img = cv2.resize(img,(image_size, image_size), interpolation = cv2.INTER_LINEAR)\n",
    "      denoise_img = cv2.fastNlMeansDenoisingColored(img,None,2,5,9,23)\n",
    "      if i == \"full_forg\":\n",
    "        cv2.imwrite(\"D://227px_LI_GB_D1//forgeries//\"+f+\".png\", denoise_img)\n",
    "      else:\n",
    "        cv2.imwrite(\"D://227px_LI_GB_D1//genuine//\"+f+\".png\", denoise_img)\n",
    "        \n",
    "        "
   ]
  }
 ],
 "metadata": {
  "kernelspec": {
   "display_name": "base",
   "language": "python",
   "name": "python3"
  },
  "language_info": {
   "codemirror_mode": {
    "name": "ipython",
    "version": 3
   },
   "file_extension": ".py",
   "mimetype": "text/x-python",
   "name": "python",
   "nbconvert_exporter": "python",
   "pygments_lexer": "ipython3",
   "version": "3.9.5"
  },
  "orig_nbformat": 4
 },
 "nbformat": 4,
 "nbformat_minor": 2
}
