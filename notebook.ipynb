{
 "cells": [
  {
   "cell_type": "code",
   "execution_count": 2,
   "metadata": {},
   "outputs": [
    {
     "name": "stdout",
     "output_type": "stream",
     "text": [
      "D:\\cedar_minimal\\real\\original_1_1.png\n",
      "D:\\cedar_minimal\\real\\original_1_2.png\n",
      "D:\\cedar_minimal\\real\\original_1_3.png\n",
      "D:\\cedar_minimal\\real\\original_1_4.png\n",
      "D:\\cedar_minimal\\real\\original_1_5.png\n",
      "D:\\cedar_minimal\\real\\original_2_1.png\n",
      "D:\\cedar_minimal\\real\\original_2_2.png\n",
      "D:\\cedar_minimal\\real\\original_2_3.png\n",
      "D:\\cedar_minimal\\real\\original_2_4.png\n",
      "D:\\cedar_minimal\\real\\original_2_5.png\n",
      "D:\\cedar_minimal\\real\\original_3_1.png\n",
      "D:\\cedar_minimal\\real\\original_3_2.png\n",
      "D:\\cedar_minimal\\real\\original_3_3.png\n",
      "D:\\cedar_minimal\\real\\original_3_4.png\n",
      "D:\\cedar_minimal\\real\\original_3_5.png\n",
      "D:\\cedar_minimal\\real\\original_4_1.png\n",
      "D:\\cedar_minimal\\real\\original_4_2.png\n",
      "D:\\cedar_minimal\\real\\original_4_3.png\n",
      "D:\\cedar_minimal\\real\\original_4_4.png\n",
      "D:\\cedar_minimal\\real\\original_4_5.png\n",
      "D:\\cedar_minimal\\real\\original_5_1.png\n",
      "D:\\cedar_minimal\\real\\original_5_2.png\n",
      "D:\\cedar_minimal\\real\\original_5_3.png\n",
      "D:\\cedar_minimal\\real\\original_5_4.png\n",
      "D:\\cedar_minimal\\real\\original_5_5.png\n",
      "D:\\cedar_minimal\\real\\original_6_1.png\n",
      "D:\\cedar_minimal\\real\\original_6_2.png\n",
      "D:\\cedar_minimal\\real\\original_6_3.png\n",
      "D:\\cedar_minimal\\real\\original_6_4.png\n",
      "D:\\cedar_minimal\\real\\original_6_5.png\n",
      "D:\\cedar_minimal\\real\\original_7_1.png\n",
      "D:\\cedar_minimal\\real\\original_7_2.png\n",
      "D:\\cedar_minimal\\real\\original_7_3.png\n",
      "D:\\cedar_minimal\\real\\original_7_4.png\n",
      "D:\\cedar_minimal\\real\\original_7_5.png\n",
      "D:\\cedar_minimal\\real\\original_8_1.png\n",
      "D:\\cedar_minimal\\real\\original_8_2.png\n",
      "D:\\cedar_minimal\\real\\original_8_3.png\n",
      "D:\\cedar_minimal\\real\\original_8_4.png\n",
      "D:\\cedar_minimal\\real\\original_8_5.png\n",
      "D:\\cedar_minimal\\real\\original_9_1.png\n",
      "D:\\cedar_minimal\\real\\original_9_2.png\n",
      "D:\\cedar_minimal\\real\\original_9_3.png\n",
      "D:\\cedar_minimal\\real\\original_9_4.png\n",
      "D:\\cedar_minimal\\real\\original_9_5.png\n",
      "D:\\cedar_minimal\\real\\original_10_1.png\n",
      "D:\\cedar_minimal\\real\\original_10_2.png\n",
      "D:\\cedar_minimal\\real\\original_10_3.png\n",
      "D:\\cedar_minimal\\real\\original_10_4.png\n",
      "D:\\cedar_minimal\\real\\original_10_5.png\n"
     ]
    }
   ],
   "source": [
    "'''IMPORTS'''\n",
    "import cv2\n",
    "\n",
    "'''PRE-PROCESSING: RESIZING'''\n",
    "for person in range(1,11):\n",
    "  for attempt in range(1,6):\n",
    "    img_path = f\"D:\\cedar_minimal\\\\real\\original_{person}_{attempt}.png\"\n",
    "    print(img_path)\n",
    "    img = cv2.imread(img_path)\n",
    "    resized_img = cv2.resize(img, (500, 250),interpolation = cv2.INTER_LINEAR)\n",
    "    cv2.imwrite(img_path,resized_img)"
   ]
  },
  {
   "cell_type": "code",
   "execution_count": null,
   "metadata": {},
   "outputs": [],
   "source": []
  }
 ],
 "metadata": {
  "kernelspec": {
   "display_name": "Python 3 (ipykernel)",
   "language": "python",
   "name": "python3"
  },
  "language_info": {
   "codemirror_mode": {
    "name": "ipython",
    "version": 3
   },
   "file_extension": ".py",
   "mimetype": "text/x-python",
   "name": "python",
   "nbconvert_exporter": "python",
   "pygments_lexer": "ipython3",
   "version": "3.9.13"
  }
 },
 "nbformat": 4,
 "nbformat_minor": 2
}
