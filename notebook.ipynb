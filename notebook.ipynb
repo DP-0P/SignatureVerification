{
 "cells": [
  {
   "cell_type": "markdown",
   "metadata": {},
   "source": [
    "# IMPORTS\n",
    "\n"
   ]
  },
  {
   "cell_type": "code",
   "execution_count": 1,
   "metadata": {},
   "outputs": [],
   "source": [
    "import cv2\n",
    "from tqdm import tqdm"
   ]
  },
  {
   "cell_type": "markdown",
   "metadata": {},
   "source": [
    "# PRE-PROCESSING: RESIZING"
   ]
  },
  {
   "cell_type": "code",
   "execution_count": 2,
   "metadata": {},
   "outputs": [
    {
     "name": "stderr",
     "output_type": "stream",
     "text": [
      "RESIZING ORIGINAL: 100%|██████████| 55/55 [00:13<00:00,  3.99it/s]\n",
      "RESIZING FORG: 100%|██████████| 55/55 [00:14<00:00,  3.92it/s]\n"
     ]
    }
   ],
   "source": [
    "#RESIZING ORIGINAL SIGNATURES\n",
    "for person in tqdm(range(1,56), desc = 'RESIZING ORIGINAL'):\n",
    "  for attempt in range(1,25):\n",
    "    img_path = f\"D:\\\\cedar_dataset\\\\full_org\\\\original_{person}_{attempt}.png\"\n",
    "    img = cv2.imread(img_path)\n",
    "    resized_img = cv2.resize(img, (500, 250),interpolation = cv2.INTER_LINEAR)\n",
    "    cv2.imwrite(img_path,resized_img)\n",
    "\n",
    "#RESIZING FORGED SIGNATURES\n",
    "for person in tqdm(range(1,56), desc = 'RESIZING FORG'):\n",
    "  for attempt in range(1,25):\n",
    "    img_path = f\"D:\\\\cedar_dataset\\\\full_forg\\\\forgeries_{person}_{attempt}.png\"\n",
    "    img = cv2.imread(img_path)\n",
    "    resized_img = cv2.resize(img, (500, 250),interpolation = cv2.INTER_LINEAR)\n",
    "    cv2.imwrite(img_path,resized_img)"
   ]
  },
  {
   "cell_type": "markdown",
   "metadata": {},
   "source": [
    "# PRE-PROCESSING: DE-NOISE"
   ]
  },
  {
   "cell_type": "code",
   "execution_count": 3,
   "metadata": {},
   "outputs": [
    {
     "name": "stderr",
     "output_type": "stream",
     "text": [
      "DE-NOISING ORIGINAL: 100%|██████████| 55/55 [25:30<00:00, 27.83s/it]\n"
     ]
    }
   ],
   "source": [
    "#DE-NOISING ORIGINAL SIGNATURES\n",
    "for person in tqdm(range(1,56), desc = 'DE-NOISING ORIGINAL'):\n",
    "  for attempt in range(1,25):\n",
    "    img_path = f\"D:\\\\cedar_dataset\\\\full_org\\\\original_{person}_{attempt}.png\" \n",
    "    image = cv2.imread(img_path)\n",
    "    try:\n",
    "        denoise_img = cv2.fastNlMeansDenoisingColored(image,None,2,5,9,23)\n",
    "    except:\n",
    "        print(img_path)\n",
    "        print(\"Person\",person)\n",
    "        print(\"Attmpt\",attempt)\n",
    "        exit(0)\n",
    "        \n",
    "    cv2.imwrite(img_path, denoise_img)"
   ]
  },
  {
   "cell_type": "code",
   "execution_count": 4,
   "metadata": {},
   "outputs": [
    {
     "name": "stderr",
     "output_type": "stream",
     "text": [
      "DE-NOISING FORGED: 100%|██████████| 55/55 [25:21<00:00, 27.67s/it]\n"
     ]
    }
   ],
   "source": [
    "#DE-NOISING FORGED SIGNATURES\n",
    "for person in tqdm(range(1,56), desc = 'DE-NOISING FORGED'):\n",
    "  for attempt in range(1,25):\n",
    "    img_path = f\"D:\\\\cedar_dataset\\\\full_forg\\\\forgeries_{person}_{attempt}.png\" \n",
    "    image = cv2.imread(img_path)\n",
    "    try:\n",
    "        denoise_img = cv2.fastNlMeansDenoisingColored(image,None,2,5,9,23)\n",
    "    except:\n",
    "        print(\"Person\",person)\n",
    "        print(\"Attmpt\",attempt)\n",
    "        exit(0)\n",
    "    cv2.imwrite(img_path, denoise_img)"
   ]
  },
  {
   "cell_type": "code",
   "execution_count": null,
   "metadata": {},
   "outputs": [],
   "source": []
  }
 ],
 "metadata": {
  "kernelspec": {
   "display_name": "Python 3 (ipykernel)",
   "language": "python",
   "name": "python3"
  },
  "language_info": {
   "codemirror_mode": {
    "name": "ipython",
    "version": 3
   },
   "file_extension": ".py",
   "mimetype": "text/x-python",
   "name": "python",
   "nbconvert_exporter": "python",
   "pygments_lexer": "ipython3",
   "version": "3.9.13"
  }
 },
 "nbformat": 4,
 "nbformat_minor": 2
}
