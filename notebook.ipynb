{
 "cells": [
  {
   "cell_type": "code",
   "execution_count": null,
   "metadata": {},
   "outputs": [],
   "source": [
    "'''IMPORTS'''\n",
    "from PIL import Image\n",
    "\n",
    "'''PRE-PROCESSING: RESIZING'''\n",
    "for person in range(1,11):\n",
    "  for attempt in range(1,6):\n",
    "    img_path = f\"D:\\cedar_minimal\\\\real\\original_{person}_{attempt}.png\"\n",
    "    print(\"-----------------------------\")\n",
    "    print(img_path)\n",
    "    print(\"-----------------------------\")\n",
    "    img = Image.open(img_path)\n",
    "    img = img.resize((500,500))\n",
    "    img = img.save(img_path)"
   ]
  }
 ],
 "metadata": {
  "kernelspec": {
   "display_name": "Python 3",
   "language": "python",
   "name": "python3"
  },
  "language_info": {
   "codemirror_mode": {
    "name": "ipython",
    "version": 3
   },
   "file_extension": ".py",
   "mimetype": "text/x-python",
   "name": "python",
   "nbconvert_exporter": "python",
   "pygments_lexer": "ipython3",
   "version": "3.9.13"
  },
  "orig_nbformat": 4
 },
 "nbformat": 4,
 "nbformat_minor": 2
}
