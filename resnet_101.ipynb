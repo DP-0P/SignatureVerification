{
 "cells": [
  {
   "cell_type": "code",
   "execution_count": 1,
   "metadata": {},
   "outputs": [],
   "source": [
    "import os\n",
    "import cv2\n",
    "import numpy as np\n",
    "import pandas as pd\n",
    "from tqdm import tqdm\n",
    "import tensorflow as tf\n",
    "import matplotlib.pyplot as plt\n",
    "from sklearn.utils import shuffle\n",
    "from sklearn.compose import ColumnTransformer\n",
    "from sklearn.preprocessing import OneHotEncoder\n",
    "from sklearn.metrics import confusion_matrix\n",
    "from sklearn.metrics import classification_report\n",
    "from sklearn.model_selection import train_test_split"
   ]
  },
  {
   "cell_type": "code",
   "execution_count": 2,
   "metadata": {},
   "outputs": [
    {
     "name": "stdout",
     "output_type": "stream",
     "text": [
      "Signatures in each category:\n",
      "forgeries    1320\n",
      "genuine      1320\n",
      "Name: sign type, dtype: int64\n"
     ]
    }
   ],
   "source": [
    "D1_LINEAR_GAUSIAN_250px = \"D://250px_LI_GB_D1/\"\n",
    "D1_LINEAR_GAUSIAN_227px = \"D://227px_LI_GB_D1/\"\n",
    "D2_LINEAR_GAUSIAN_227px = \"D://227px_LI_GB_D2/\"\n",
    "D2_LINEAR_GAUSIAN_250px = \"D://250px_LI_GB_D2/\"\n",
    "D1_AREA_GAUSIAN_227px = \"D://227px_AI_GB_D1/\"\n",
    "D1_AREA_GAUSIAN_250px = \"D://250px_AI_GB_D1/\"\n",
    "\n",
    "D1_D2_MIXED_250px = \"D://D1_D2_MIXED_250px/\"\n",
    "ds_type = D1_AREA_GAUSIAN_227px\n",
    "dataset_path = signature_types = os.listdir(ds_type)\n",
    "signs = []\n",
    "for item in signature_types:\n",
    "  all_signs = os.listdir(ds_type+\"/\"+item)\n",
    "  for sign in all_signs:\n",
    "    if sign.endswith(\".db\"):\n",
    "      pass\n",
    "    else: \n",
    "      signs.append((item, str(ds_type+\"/\"+item) + \"/\" + sign))\n",
    "signs_df = pd.DataFrame(data = signs, columns = [\"sign type\", \"image\"])\n",
    "sign_count = signs_df[\"sign type\"].value_counts()\n",
    "print(\"Signatures in each category:\")\n",
    "print(sign_count)"
   ]
  },
  {
   "cell_type": "code",
   "execution_count": 3,
   "metadata": {},
   "outputs": [
    {
     "name": "stderr",
     "output_type": "stream",
     "text": [
      "Processing forgeries: 100%|██████████| 1320/1320 [00:01<00:00, 1257.56it/s]\n",
      "Processing genuine: 100%|██████████| 1320/1320 [00:01<00:00, 1249.71it/s]\n"
     ]
    }
   ],
   "source": [
    "images = []\n",
    "labels = []\n",
    "for i in signature_types:\n",
    "  data_path = ds_type + str(i)\n",
    "  filenames = [i for i in os.listdir(data_path)]\n",
    "  for f in tqdm(filenames, desc=f\"Processing {i}\"):\n",
    "    if f.endswith(\".db\"):\n",
    "      pass\n",
    "    else:\n",
    "      img = cv2.imread(data_path + \"/\" + f)\n",
    "      images.append(img)\n",
    "      labels.append(i)"
   ]
  },
  {
   "cell_type": "code",
   "execution_count": 4,
   "metadata": {},
   "outputs": [],
   "source": [
    "images = np.array(images)\n",
    "images = images.astype('float32') / 255.0"
   ]
  },
  {
   "cell_type": "code",
   "execution_count": 5,
   "metadata": {},
   "outputs": [
    {
     "name": "stdout",
     "output_type": "stream",
     "text": [
      "(2640, 2)\n"
     ]
    }
   ],
   "source": [
    "y = signs_df['sign type'].values\n",
    "y = y.reshape(-1,1)\n",
    "columnTransformer = ColumnTransformer([('encoder', OneHotEncoder(), [0])], remainder='passthrough')\n",
    "Y=np.array(columnTransformer.fit_transform(y),dtype='float32')\n",
    "print(Y.shape)"
   ]
  },
  {
   "cell_type": "code",
   "execution_count": 6,
   "metadata": {},
   "outputs": [
    {
     "name": "stdout",
     "output_type": "stream",
     "text": [
      "(2112, 227, 227, 3)\n",
      "(528, 227, 227, 3)\n",
      "(2112, 2)\n",
      "(528, 2)\n"
     ]
    }
   ],
   "source": [
    "images, Y = shuffle(images,Y,random_state=42)\n",
    "train_x,test_x,train_y,test_y = train_test_split(images, Y, test_size=0.2, random_state=42)\n",
    "print(train_x.shape)\n",
    "print(test_x.shape)\n",
    "print(train_y.shape)\n",
    "print(test_y.shape)"
   ]
  },
  {
   "cell_type": "code",
   "execution_count": 7,
   "metadata": {},
   "outputs": [],
   "source": [
    "train_x = train_x / 255.0\n",
    "test_x = test_x / 255.0"
   ]
  },
  {
   "cell_type": "code",
   "execution_count": 8,
   "metadata": {},
   "outputs": [],
   "source": [
    "from tensorflow.keras.applications import ResNet101\n",
    "from tensorflow.keras.layers import Input,Dense,Flatten,Dropout\n",
    "from tensorflow.keras.models import Model"
   ]
  },
  {
   "cell_type": "code",
   "execution_count": 9,
   "metadata": {},
   "outputs": [],
   "source": [
    "image_size=[227,227]\n",
    "model = ResNet101(input_shape=image_size+[3],include_top = False, weights = 'imagenet')"
   ]
  },
  {
   "cell_type": "code",
   "execution_count": 10,
   "metadata": {},
   "outputs": [],
   "source": [
    "# model.summary()"
   ]
  },
  {
   "cell_type": "code",
   "execution_count": 11,
   "metadata": {},
   "outputs": [],
   "source": [
    "for layers in model.layers:\n",
    "  layers.trainable = False"
   ]
  },
  {
   "cell_type": "code",
   "execution_count": 12,
   "metadata": {},
   "outputs": [],
   "source": [
    "arc = Model(inputs=model.input,outputs=Dense(2,activation='softmax')(Flatten()(model.output)))\n",
    "# arc.summary()"
   ]
  },
  {
   "cell_type": "code",
   "execution_count": 13,
   "metadata": {},
   "outputs": [],
   "source": [
    "# from tensorflow.keras.optimizers import RMSprop\n",
    "# arc.compile(loss='categorical_crossentropy',optimizer=RMSprop(learning_rate=0.001),metrics=['accuracy'])\n",
    "# opti = tf.keras.optimizers.SGD(learning_rate=0.001,)\n",
    "# arc.compile(optimizer=opti,loss='BinaryCrossentropy',metrics=['accuracy'])\n",
    "arc.compile(optimizer='adam',loss='BinaryCrossentropy',metrics=['accuracy'])"
   ]
  },
  {
   "cell_type": "code",
   "execution_count": 14,
   "metadata": {},
   "outputs": [
    {
     "name": "stdout",
     "output_type": "stream",
     "text": [
      "Epoch 1/30\n",
      "66/66 [==============================] - 18s 193ms/step - loss: 2.1376 - accuracy: 0.4882 - val_loss: 1.1690 - val_accuracy: 0.4792\n",
      "Epoch 2/30\n",
      "66/66 [==============================] - 11s 164ms/step - loss: 0.9182 - accuracy: 0.5090 - val_loss: 0.8970 - val_accuracy: 0.5208\n",
      "Epoch 3/30\n",
      "66/66 [==============================] - 11s 164ms/step - loss: 1.0098 - accuracy: 0.5043 - val_loss: 0.8601 - val_accuracy: 0.4792\n",
      "Epoch 4/30\n",
      "66/66 [==============================] - 11s 164ms/step - loss: 0.8591 - accuracy: 0.5071 - val_loss: 1.0413 - val_accuracy: 0.4792\n",
      "Epoch 5/30\n",
      "66/66 [==============================] - 11s 165ms/step - loss: 0.9554 - accuracy: 0.4910 - val_loss: 1.7197 - val_accuracy: 0.5208\n",
      "Epoch 6/30\n",
      "66/66 [==============================] - 11s 164ms/step - loss: 1.2174 - accuracy: 0.5014 - val_loss: 0.9861 - val_accuracy: 0.4792\n",
      "Epoch 7/30\n",
      "66/66 [==============================] - 11s 164ms/step - loss: 0.9217 - accuracy: 0.4844 - val_loss: 0.8070 - val_accuracy: 0.5208\n",
      "Epoch 8/30\n",
      "66/66 [==============================] - 11s 164ms/step - loss: 0.9057 - accuracy: 0.4768 - val_loss: 0.9104 - val_accuracy: 0.4792\n",
      "Epoch 9/30\n",
      "66/66 [==============================] - 11s 164ms/step - loss: 1.0453 - accuracy: 0.4853 - val_loss: 0.7537 - val_accuracy: 0.5208\n",
      "Epoch 10/30\n",
      "66/66 [==============================] - 11s 164ms/step - loss: 0.8233 - accuracy: 0.4986 - val_loss: 1.0475 - val_accuracy: 0.4792\n",
      "Epoch 11/30\n",
      "66/66 [==============================] - 11s 165ms/step - loss: 2.0582 - accuracy: 0.4957 - val_loss: 2.1140 - val_accuracy: 0.4792\n",
      "Epoch 12/30\n",
      "66/66 [==============================] - 11s 164ms/step - loss: 1.7429 - accuracy: 0.5014 - val_loss: 1.0632 - val_accuracy: 0.4792\n",
      "Epoch 13/30\n",
      "66/66 [==============================] - 11s 165ms/step - loss: 1.3998 - accuracy: 0.5024 - val_loss: 0.8432 - val_accuracy: 0.4792\n",
      "Epoch 14/30\n",
      "66/66 [==============================] - 11s 165ms/step - loss: 0.8725 - accuracy: 0.4938 - val_loss: 1.4957 - val_accuracy: 0.5208\n",
      "Epoch 15/30\n",
      "66/66 [==============================] - 11s 165ms/step - loss: 1.1191 - accuracy: 0.5109 - val_loss: 0.9584 - val_accuracy: 0.5208\n",
      "Epoch 16/30\n",
      "66/66 [==============================] - 11s 165ms/step - loss: 0.8545 - accuracy: 0.4929 - val_loss: 0.7908 - val_accuracy: 0.5208\n",
      "Epoch 17/30\n",
      "66/66 [==============================] - 11s 165ms/step - loss: 1.2748 - accuracy: 0.5009 - val_loss: 1.7501 - val_accuracy: 0.4792\n",
      "Epoch 18/30\n",
      "66/66 [==============================] - 11s 164ms/step - loss: 1.1817 - accuracy: 0.5052 - val_loss: 0.7958 - val_accuracy: 0.4792\n",
      "Epoch 19/30\n",
      "66/66 [==============================] - 11s 164ms/step - loss: 1.2115 - accuracy: 0.5062 - val_loss: 1.0047 - val_accuracy: 0.4792\n",
      "Epoch 20/30\n",
      "66/66 [==============================] - 11s 164ms/step - loss: 1.2023 - accuracy: 0.5080 - val_loss: 1.2794 - val_accuracy: 0.4792\n",
      "Epoch 21/30\n",
      "66/66 [==============================] - 11s 165ms/step - loss: 1.2872 - accuracy: 0.5109 - val_loss: 0.8817 - val_accuracy: 0.4792\n",
      "Epoch 22/30\n",
      "66/66 [==============================] - 11s 164ms/step - loss: 0.9746 - accuracy: 0.4967 - val_loss: 1.3301 - val_accuracy: 0.4792\n",
      "Epoch 23/30\n",
      "66/66 [==============================] - 11s 165ms/step - loss: 0.9641 - accuracy: 0.5175 - val_loss: 1.6556 - val_accuracy: 0.4792\n",
      "Epoch 24/30\n",
      "66/66 [==============================] - 11s 165ms/step - loss: 1.0006 - accuracy: 0.5137 - val_loss: 0.7219 - val_accuracy: 0.5208\n",
      "Epoch 25/30\n",
      "66/66 [==============================] - 11s 166ms/step - loss: 0.9350 - accuracy: 0.4759 - val_loss: 0.9530 - val_accuracy: 0.5208\n",
      "Epoch 26/30\n",
      "66/66 [==============================] - 11s 165ms/step - loss: 0.8869 - accuracy: 0.4938 - val_loss: 0.7019 - val_accuracy: 0.4792\n",
      "Epoch 27/30\n",
      "66/66 [==============================] - 11s 166ms/step - loss: 0.9460 - accuracy: 0.4920 - val_loss: 1.0006 - val_accuracy: 0.5208\n",
      "Epoch 28/30\n",
      "66/66 [==============================] - 11s 167ms/step - loss: 1.1045 - accuracy: 0.4995 - val_loss: 0.6985 - val_accuracy: 0.5208\n",
      "Epoch 29/30\n",
      "66/66 [==============================] - 11s 165ms/step - loss: 0.9022 - accuracy: 0.5156 - val_loss: 0.7483 - val_accuracy: 0.5208\n",
      "Epoch 30/30\n",
      "66/66 [==============================] - 11s 164ms/step - loss: 1.0538 - accuracy: 0.5175 - val_loss: 1.0906 - val_accuracy: 0.5208\n"
     ]
    }
   ],
   "source": [
    "history = arc.fit(train_x, train_y, validation_data=(test_x,test_y), epochs = 30)"
   ]
  },
  {
   "cell_type": "code",
   "execution_count": 15,
   "metadata": {},
   "outputs": [
    {
     "data": {
      "image/png": "[encoded data removed]",
      "text/plain": [
       "<Figure size 640x480 with 1 Axes>"
      ]
     },
     "metadata": {},
     "output_type": "display_data"
    }
   ],
   "source": [
    "training_acc = history.history['accuracy']\n",
    "test_acc = history.history['val_accuracy']\n",
    "epoch_count = range(1, len(training_acc) + 1)\n",
    "plt.plot(epoch_count, training_acc, 'r--')\n",
    "plt.plot(epoch_count, test_acc, 'b-')\n",
    "plt.legend(['Training', 'Test'])\n",
    "plt.xlabel('Epoch')\n",
    "plt.ylabel('Accuracy')\n",
    "plt.show()"
   ]
  },
  {
   "cell_type": "code",
   "execution_count": 16,
   "metadata": {},
   "outputs": [
    {
     "name": "stdout",
     "output_type": "stream",
     "text": [
      "17/17 [==============================] - 2s 127ms/step - loss: 1.0906 - accuracy: 0.5208\n",
      "17/17 [==============================] - 3s 128ms/step\n",
      "              precision    recall  f1-score   support\n",
      "\n",
      "           0       0.52      1.00      0.68       275\n",
      "           1       0.00      0.00      0.00       253\n",
      "\n",
      "    accuracy                           0.52       528\n",
      "   macro avg       0.26      0.50      0.34       528\n",
      "weighted avg       0.27      0.52      0.36       528\n",
      "\n"
     ]
    },
    {
     "name": "stderr",
     "output_type": "stream",
     "text": [
      "C:\\Users\\einzeL\\AppData\\Roaming\\Python\\Python39\\site-packages\\sklearn\\metrics\\_classification.py:1327: UndefinedMetricWarning: Precision and F-score are ill-defined and being set to 0.0 in labels with no predicted samples. Use `zero_division` parameter to control this behavior.\n",
      "  _warn_prf(average, modifier, msg_start, len(result))\n",
      "C:\\Users\\einzeL\\AppData\\Roaming\\Python\\Python39\\site-packages\\sklearn\\metrics\\_classification.py:1327: UndefinedMetricWarning: Precision and F-score are ill-defined and being set to 0.0 in labels with no predicted samples. Use `zero_division` parameter to control this behavior.\n",
      "  _warn_prf(average, modifier, msg_start, len(result))\n",
      "C:\\Users\\einzeL\\AppData\\Roaming\\Python\\Python39\\site-packages\\sklearn\\metrics\\_classification.py:1327: UndefinedMetricWarning: Precision and F-score are ill-defined and being set to 0.0 in labels with no predicted samples. Use `zero_division` parameter to control this behavior.\n",
      "  _warn_prf(average, modifier, msg_start, len(result))\n"
     ]
    }
   ],
   "source": [
    "testing = arc.evaluate(test_x, test_y)\n",
    "predictions = arc.predict(test_x)\n",
    "pred_y = np.argmax(predictions, axis = 1)\n",
    "test_y = np.argmax(test_y, axis=1)\n",
    "print(classification_report(test_y,pred_y))"
   ]
  },
  {
   "cell_type": "code",
   "execution_count": 17,
   "metadata": {},
   "outputs": [
    {
     "name": "stdout",
     "output_type": "stream",
     "text": [
      "[[275   0]\n",
      " [253   0]]\n"
     ]
    }
   ],
   "source": [
    "cm = confusion_matrix(test_y, pred_y)\n",
    "print(cm)"
   ]
  }
 ],
 "metadata": {
  "kernelspec": {
   "display_name": "Python 3",
   "language": "python",
   "name": "python3"
  },
  "language_info": {
   "codemirror_mode": {
    "name": "ipython",
    "version": 3
   },
   "file_extension": ".py",
   "mimetype": "text/x-python",
   "name": "python",
   "nbconvert_exporter": "python",
   "pygments_lexer": "ipython3",
   "version": "3.9.5"
  },
  "orig_nbformat": 4
 },
 "nbformat": 4,
 "nbformat_minor": 2
}
