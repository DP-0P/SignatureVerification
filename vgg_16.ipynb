{
 "cells": [
  {
   "cell_type": "code",
   "execution_count": 1,
   "metadata": {},
   "outputs": [],
   "source": [
    "import os\n",
    "import cv2\n",
    "import numpy as np\n",
    "import pandas as pd\n",
    "from tqdm import tqdm\n",
    "import tensorflow as tf\n",
    "import matplotlib.pyplot as plt\n",
    "from sklearn.utils import shuffle\n",
    "from sklearn.compose import ColumnTransformer\n",
    "from sklearn.preprocessing import OneHotEncoder\n",
    "from sklearn.metrics import confusion_matrix\n",
    "from sklearn.metrics import classification_report\n",
    "from sklearn.model_selection import train_test_split"
   ]
  },
  {
   "cell_type": "code",
   "execution_count": 2,
   "metadata": {},
   "outputs": [
    {
     "name": "stdout",
     "output_type": "stream",
     "text": [
      "Signatures in each category:\n",
      "fogeries    1320\n",
      "original    1320\n",
      "Name: sign type, dtype: int64\n"
     ]
    }
   ],
   "source": [
    "D1_LINEAR_GAUSIAN_250px = \"D://250px_LI_GB_D1/\"\n",
    "D2_LINEAR_GAUSIAN_250px = \"D://250px_LI_GB_D2/\"\n",
    "ds_type = D1_LINEAR_GAUSIAN_250px\n",
    "dataset_path = signature_types = os.listdir(ds_type)\n",
    "signs = []\n",
    "for item in signature_types:\n",
    "  all_signs = os.listdir(ds_type+\"/\"+item)\n",
    "  for sign in all_signs:\n",
    "    if sign.endswith(\".db\"):\n",
    "      pass\n",
    "    else: \n",
    "      signs.append((item, str(ds_type+\"/\"+item) + \"/\" + sign))\n",
    "signs_df = pd.DataFrame(data = signs, columns = [\"sign type\", \"image\"])\n",
    "sign_count = signs_df[\"sign type\"].value_counts()\n",
    "print(\"Signatures in each category:\")\n",
    "print(sign_count)"
   ]
  },
  {
   "cell_type": "code",
   "execution_count": 3,
   "metadata": {},
   "outputs": [
    {
     "name": "stderr",
     "output_type": "stream",
     "text": [
      "Processing fogeries: 100%|██████████| 1320/1320 [00:13<00:00, 99.91it/s] \n",
      "Processing original: 100%|██████████| 1320/1320 [00:09<00:00, 134.68it/s]\n"
     ]
    }
   ],
   "source": [
    "images = []\n",
    "labels = []\n",
    "for i in signature_types:\n",
    "  data_path = ds_type + str(i)\n",
    "  filenames = [i for i in os.listdir(data_path)]\n",
    "  for f in tqdm(filenames, desc=f\"Processing {i}\"):\n",
    "    if f.endswith(\".db\"):\n",
    "      pass\n",
    "    else:\n",
    "      img = cv2.imread(data_path + \"/\" + f)\n",
    "      images.append(img)\n",
    "      labels.append(i)"
   ]
  },
  {
   "cell_type": "code",
   "execution_count": 4,
   "metadata": {},
   "outputs": [],
   "source": [
    "images = np.array(images)\n",
    "images = images.astype('float32') / 255.0"
   ]
  },
  {
   "cell_type": "code",
   "execution_count": 5,
   "metadata": {},
   "outputs": [
    {
     "name": "stdout",
     "output_type": "stream",
     "text": [
      "(2640, 2)\n"
     ]
    }
   ],
   "source": [
    "y = signs_df['sign type'].values\n",
    "y = y.reshape(-1,1)\n",
    "columnTransformer = ColumnTransformer([('encoder', OneHotEncoder(), [0])], remainder='passthrough')\n",
    "Y=np.array(columnTransformer.fit_transform(y),dtype='float32')\n",
    "print(Y.shape)"
   ]
  },
  {
   "cell_type": "code",
   "execution_count": 6,
   "metadata": {},
   "outputs": [
    {
     "name": "stdout",
     "output_type": "stream",
     "text": [
      "(2112, 250, 250, 3)\n",
      "(528, 250, 250, 3)\n",
      "(2112, 2)\n",
      "(528, 2)\n"
     ]
    }
   ],
   "source": [
    "images, Y = shuffle(images,Y,random_state=42)\n",
    "train_x,test_x,train_y,test_y = train_test_split(images, Y, test_size=0.2, random_state=42)\n",
    "print(train_x.shape)\n",
    "print(test_x.shape)\n",
    "print(train_y.shape)\n",
    "print(test_y.shape)"
   ]
  },
  {
   "cell_type": "code",
   "execution_count": 7,
   "metadata": {},
   "outputs": [],
   "source": [
    "train_x = train_x / 255.0\n",
    "test_x = test_x / 255.0"
   ]
  },
  {
   "cell_type": "code",
   "execution_count": 8,
   "metadata": {},
   "outputs": [],
   "source": [
    "from tensorflow.keras.applications import VGG16\n",
    "# from tensorflow.keras.applications import VGG19\n",
    "from tensorflow.keras.layers import Input, Dense, Conv2D, Activation, MaxPooling2D, Flatten\n",
    "from tensorflow.keras.preprocessing.image import ImageDataGenerator, load_img\n",
    "from tensorflow.keras.models import Model, Sequential"
   ]
  },
  {
   "cell_type": "code",
   "execution_count": 9,
   "metadata": {},
   "outputs": [],
   "source": [
    "image_size = [250,250]\n",
    "model = VGG16(input_shape=image_size+[3], include_top=False, weights='imagenet')"
   ]
  },
  {
   "cell_type": "code",
   "execution_count": 10,
   "metadata": {},
   "outputs": [],
   "source": [
    "# model.summary()"
   ]
  },
  {
   "cell_type": "code",
   "execution_count": 11,
   "metadata": {},
   "outputs": [],
   "source": [
    "for layers in model.layers:\n",
    "  layers.trainable = False"
   ]
  },
  {
   "cell_type": "code",
   "execution_count": 12,
   "metadata": {},
   "outputs": [],
   "source": [
    "final_arc = Model(inputs=model.input,outputs=Dense(2,activation='softmax')(Flatten()(model.output)))"
   ]
  },
  {
   "cell_type": "code",
   "execution_count": 13,
   "metadata": {},
   "outputs": [],
   "source": [
    "# final_arc.summary()"
   ]
  },
  {
   "cell_type": "code",
   "execution_count": 14,
   "metadata": {},
   "outputs": [],
   "source": [
    "final_arc.compile(optimizer='adam',loss='CategoricalCrossentropy',metrics=['accuracy'])"
   ]
  },
  {
   "cell_type": "code",
   "execution_count": 15,
   "metadata": {},
   "outputs": [
    {
     "name": "stdout",
     "output_type": "stream",
     "text": [
      "Epoch 1/100\n",
      "66/66 [==============================] - 20s 193ms/step - loss: 0.7744 - accuracy: 0.5024 - val_loss: 0.6907 - val_accuracy: 0.5208\n",
      "Epoch 2/100\n",
      "66/66 [==============================] - 9s 142ms/step - loss: 0.7681 - accuracy: 0.4976 - val_loss: 0.9328 - val_accuracy: 0.4792\n",
      "Epoch 3/100\n",
      "66/66 [==============================] - 9s 143ms/step - loss: 0.7405 - accuracy: 0.5066 - val_loss: 0.7637 - val_accuracy: 0.5208\n",
      "Epoch 4/100\n",
      "66/66 [==============================] - 9s 143ms/step - loss: 0.7221 - accuracy: 0.5085 - val_loss: 0.7064 - val_accuracy: 0.5208\n",
      "Epoch 5/100\n",
      "66/66 [==============================] - 9s 143ms/step - loss: 0.7695 - accuracy: 0.5099 - val_loss: 0.6815 - val_accuracy: 0.5208\n",
      "Epoch 6/100\n",
      "66/66 [==============================] - 9s 143ms/step - loss: 0.6982 - accuracy: 0.5303 - val_loss: 0.7062 - val_accuracy: 0.5208\n",
      "Epoch 7/100\n",
      "66/66 [==============================] - 9s 143ms/step - loss: 0.7063 - accuracy: 0.5080 - val_loss: 0.7129 - val_accuracy: 0.4792\n",
      "Epoch 8/100\n",
      "66/66 [==============================] - 9s 143ms/step - loss: 0.7121 - accuracy: 0.5232 - val_loss: 0.7120 - val_accuracy: 0.4792\n",
      "Epoch 9/100\n",
      "66/66 [==============================] - 9s 143ms/step - loss: 0.7509 - accuracy: 0.5180 - val_loss: 0.8215 - val_accuracy: 0.5208\n",
      "Epoch 10/100\n",
      "66/66 [==============================] - 9s 143ms/step - loss: 0.7377 - accuracy: 0.5204 - val_loss: 0.6611 - val_accuracy: 0.7348\n",
      "Epoch 11/100\n",
      "66/66 [==============================] - 9s 143ms/step - loss: 0.7524 - accuracy: 0.5095 - val_loss: 0.7347 - val_accuracy: 0.4792\n",
      "Epoch 12/100\n",
      "66/66 [==============================] - 9s 143ms/step - loss: 0.6992 - accuracy: 0.5601 - val_loss: 0.6674 - val_accuracy: 0.5208\n",
      "Epoch 13/100\n",
      "66/66 [==============================] - 9s 144ms/step - loss: 0.7130 - accuracy: 0.5393 - val_loss: 0.6524 - val_accuracy: 0.6932\n",
      "Epoch 14/100\n",
      "66/66 [==============================] - 9s 143ms/step - loss: 0.7168 - accuracy: 0.5227 - val_loss: 0.7500 - val_accuracy: 0.4792\n",
      "Epoch 15/100\n",
      "66/66 [==============================] - 9s 143ms/step - loss: 0.7662 - accuracy: 0.5511 - val_loss: 0.9265 - val_accuracy: 0.5208\n",
      "Epoch 16/100\n",
      "66/66 [==============================] - 9s 143ms/step - loss: 0.7191 - accuracy: 0.5360 - val_loss: 0.6907 - val_accuracy: 0.5208\n",
      "Epoch 17/100\n",
      "66/66 [==============================] - 9s 143ms/step - loss: 0.6880 - accuracy: 0.5649 - val_loss: 0.6465 - val_accuracy: 0.6061\n",
      "Epoch 18/100\n",
      "66/66 [==============================] - 9s 144ms/step - loss: 0.7722 - accuracy: 0.5308 - val_loss: 0.7278 - val_accuracy: 0.4811\n",
      "Epoch 19/100\n",
      "66/66 [==============================] - 9s 144ms/step - loss: 0.6761 - accuracy: 0.5885 - val_loss: 0.6386 - val_accuracy: 0.7348\n",
      "Epoch 20/100\n",
      "66/66 [==============================] - 10s 145ms/step - loss: 0.6732 - accuracy: 0.5814 - val_loss: 0.6360 - val_accuracy: 0.7121\n",
      "Epoch 21/100\n",
      "66/66 [==============================] - 10s 144ms/step - loss: 0.6696 - accuracy: 0.6198 - val_loss: 0.6975 - val_accuracy: 0.5019\n",
      "Epoch 22/100\n",
      "66/66 [==============================] - 9s 143ms/step - loss: 0.6718 - accuracy: 0.5649 - val_loss: 0.7890 - val_accuracy: 0.5208\n",
      "Epoch 23/100\n",
      "66/66 [==============================] - 9s 143ms/step - loss: 0.6961 - accuracy: 0.5663 - val_loss: 0.6462 - val_accuracy: 0.5455\n",
      "Epoch 24/100\n",
      "66/66 [==============================] - 9s 143ms/step - loss: 0.6766 - accuracy: 0.5682 - val_loss: 0.7019 - val_accuracy: 0.5019\n",
      "Epoch 25/100\n",
      "66/66 [==============================] - 9s 144ms/step - loss: 0.7290 - accuracy: 0.5606 - val_loss: 0.6326 - val_accuracy: 0.6667\n",
      "Epoch 26/100\n",
      "66/66 [==============================] - 9s 143ms/step - loss: 0.7197 - accuracy: 0.5649 - val_loss: 0.9105 - val_accuracy: 0.4792\n",
      "Epoch 27/100\n",
      "66/66 [==============================] - 9s 143ms/step - loss: 0.6800 - accuracy: 0.5748 - val_loss: 0.6249 - val_accuracy: 0.7027\n",
      "Epoch 28/100\n",
      "66/66 [==============================] - 9s 143ms/step - loss: 0.7439 - accuracy: 0.5488 - val_loss: 0.7890 - val_accuracy: 0.4811\n",
      "Epoch 29/100\n",
      "66/66 [==============================] - 9s 144ms/step - loss: 0.6680 - accuracy: 0.5829 - val_loss: 0.6182 - val_accuracy: 0.7348\n",
      "Epoch 30/100\n",
      "66/66 [==============================] - 9s 143ms/step - loss: 0.6892 - accuracy: 0.5734 - val_loss: 0.6177 - val_accuracy: 0.7064\n",
      "Epoch 31/100\n",
      "66/66 [==============================] - 9s 143ms/step - loss: 0.6585 - accuracy: 0.5933 - val_loss: 0.6998 - val_accuracy: 0.5170\n",
      "Epoch 32/100\n",
      "66/66 [==============================] - 9s 144ms/step - loss: 0.6854 - accuracy: 0.5862 - val_loss: 0.6292 - val_accuracy: 0.6307\n",
      "Epoch 33/100\n",
      "66/66 [==============================] - 10s 146ms/step - loss: 0.6547 - accuracy: 0.6241 - val_loss: 0.6116 - val_accuracy: 0.7292\n",
      "Epoch 34/100\n",
      "66/66 [==============================] - 10s 146ms/step - loss: 0.6631 - accuracy: 0.5862 - val_loss: 0.6104 - val_accuracy: 0.7330\n",
      "Epoch 35/100\n",
      "66/66 [==============================] - 10s 145ms/step - loss: 0.6812 - accuracy: 0.5871 - val_loss: 0.6715 - val_accuracy: 0.5246\n",
      "Epoch 36/100\n",
      "66/66 [==============================] - 10s 145ms/step - loss: 0.6540 - accuracy: 0.6193 - val_loss: 0.6700 - val_accuracy: 0.5549\n",
      "Epoch 37/100\n",
      "66/66 [==============================] - 10s 146ms/step - loss: 0.6680 - accuracy: 0.5947 - val_loss: 0.6486 - val_accuracy: 0.5455\n",
      "Epoch 38/100\n",
      "66/66 [==============================] - 10s 145ms/step - loss: 0.6712 - accuracy: 0.5909 - val_loss: 0.6104 - val_accuracy: 0.6799\n",
      "Epoch 39/100\n",
      "66/66 [==============================] - 10s 145ms/step - loss: 0.6484 - accuracy: 0.6207 - val_loss: 0.6541 - val_accuracy: 0.5663\n",
      "Epoch 40/100\n",
      "66/66 [==============================] - 10s 145ms/step - loss: 0.6360 - accuracy: 0.6387 - val_loss: 0.6350 - val_accuracy: 0.5833\n",
      "Epoch 41/100\n",
      "66/66 [==============================] - 10s 145ms/step - loss: 0.6878 - accuracy: 0.5923 - val_loss: 0.6003 - val_accuracy: 0.7367\n",
      "Epoch 42/100\n",
      "66/66 [==============================] - 10s 145ms/step - loss: 0.6589 - accuracy: 0.6212 - val_loss: 0.7441 - val_accuracy: 0.5076\n",
      "Epoch 43/100\n",
      "66/66 [==============================] - 10s 145ms/step - loss: 0.6525 - accuracy: 0.6179 - val_loss: 0.6090 - val_accuracy: 0.6686\n",
      "Epoch 44/100\n",
      "66/66 [==============================] - 10s 145ms/step - loss: 0.6716 - accuracy: 0.6061 - val_loss: 0.7213 - val_accuracy: 0.5189\n",
      "Epoch 45/100\n",
      "66/66 [==============================] - 10s 146ms/step - loss: 0.6681 - accuracy: 0.5975 - val_loss: 0.6195 - val_accuracy: 0.6250\n",
      "Epoch 46/100\n",
      "66/66 [==============================] - 10s 145ms/step - loss: 0.6383 - accuracy: 0.6307 - val_loss: 0.5972 - val_accuracy: 0.7064\n",
      "Epoch 47/100\n",
      "66/66 [==============================] - 10s 145ms/step - loss: 0.6815 - accuracy: 0.5933 - val_loss: 0.6715 - val_accuracy: 0.5568\n",
      "Epoch 48/100\n",
      "66/66 [==============================] - 10s 145ms/step - loss: 0.6408 - accuracy: 0.6397 - val_loss: 0.6009 - val_accuracy: 0.6837\n",
      "Epoch 49/100\n",
      "66/66 [==============================] - 10s 145ms/step - loss: 0.6893 - accuracy: 0.6132 - val_loss: 0.6264 - val_accuracy: 0.6061\n",
      "Epoch 50/100\n",
      "66/66 [==============================] - 10s 147ms/step - loss: 0.6528 - accuracy: 0.6368 - val_loss: 0.6080 - val_accuracy: 0.6534\n",
      "Epoch 51/100\n",
      "66/66 [==============================] - 10s 145ms/step - loss: 0.6405 - accuracy: 0.6345 - val_loss: 0.6924 - val_accuracy: 0.5492\n",
      "Epoch 52/100\n",
      "66/66 [==============================] - 10s 145ms/step - loss: 0.6550 - accuracy: 0.6136 - val_loss: 0.5868 - val_accuracy: 0.7292\n",
      "Epoch 53/100\n",
      "66/66 [==============================] - 10s 145ms/step - loss: 0.6503 - accuracy: 0.6335 - val_loss: 0.6706 - val_accuracy: 0.5606\n",
      "Epoch 54/100\n",
      "66/66 [==============================] - 10s 145ms/step - loss: 0.6507 - accuracy: 0.6089 - val_loss: 0.6306 - val_accuracy: 0.5890\n",
      "Epoch 55/100\n",
      "66/66 [==============================] - 10s 145ms/step - loss: 0.6585 - accuracy: 0.6046 - val_loss: 0.7064 - val_accuracy: 0.5284\n",
      "Epoch 56/100\n",
      "66/66 [==============================] - 10s 145ms/step - loss: 0.6531 - accuracy: 0.6245 - val_loss: 0.7932 - val_accuracy: 0.5208\n",
      "Epoch 57/100\n",
      "66/66 [==============================] - 9s 144ms/step - loss: 0.6500 - accuracy: 0.6132 - val_loss: 0.5859 - val_accuracy: 0.7311\n",
      "Epoch 58/100\n",
      "66/66 [==============================] - 10s 145ms/step - loss: 0.6348 - accuracy: 0.6430 - val_loss: 0.5815 - val_accuracy: 0.7235\n",
      "Epoch 59/100\n",
      "66/66 [==============================] - 10s 145ms/step - loss: 0.6294 - accuracy: 0.6416 - val_loss: 0.5819 - val_accuracy: 0.7216\n",
      "Epoch 60/100\n",
      "66/66 [==============================] - 10s 145ms/step - loss: 0.6531 - accuracy: 0.6207 - val_loss: 0.6530 - val_accuracy: 0.5795\n",
      "Epoch 61/100\n",
      "66/66 [==============================] - 10s 145ms/step - loss: 0.6506 - accuracy: 0.6274 - val_loss: 0.5998 - val_accuracy: 0.6629\n",
      "Epoch 62/100\n",
      "66/66 [==============================] - 10s 145ms/step - loss: 0.6516 - accuracy: 0.6245 - val_loss: 0.5942 - val_accuracy: 0.6856\n",
      "Epoch 63/100\n",
      "66/66 [==============================] - 10s 144ms/step - loss: 0.6847 - accuracy: 0.5772 - val_loss: 0.6408 - val_accuracy: 0.5890\n",
      "Epoch 64/100\n",
      "66/66 [==============================] - 10s 145ms/step - loss: 0.7571 - accuracy: 0.5549 - val_loss: 0.5799 - val_accuracy: 0.7178\n",
      "Epoch 65/100\n",
      "66/66 [==============================] - 10s 145ms/step - loss: 0.6202 - accuracy: 0.6567 - val_loss: 0.5824 - val_accuracy: 0.7045\n",
      "Epoch 66/100\n",
      "66/66 [==============================] - 10s 145ms/step - loss: 0.6197 - accuracy: 0.6643 - val_loss: 0.5869 - val_accuracy: 0.6932\n",
      "Epoch 67/100\n",
      "66/66 [==============================] - 10s 145ms/step - loss: 0.6342 - accuracy: 0.6387 - val_loss: 0.9175 - val_accuracy: 0.4943\n",
      "Epoch 68/100\n",
      "66/66 [==============================] - 10s 146ms/step - loss: 0.6817 - accuracy: 0.5942 - val_loss: 0.5780 - val_accuracy: 0.7254\n",
      "Epoch 69/100\n",
      "66/66 [==============================] - 10s 145ms/step - loss: 0.6317 - accuracy: 0.6345 - val_loss: 0.7038 - val_accuracy: 0.5568\n",
      "Epoch 70/100\n",
      "66/66 [==============================] - 10s 145ms/step - loss: 0.6826 - accuracy: 0.6027 - val_loss: 0.7136 - val_accuracy: 0.5549\n",
      "Epoch 71/100\n",
      "66/66 [==============================] - 10s 145ms/step - loss: 0.6619 - accuracy: 0.6245 - val_loss: 0.6376 - val_accuracy: 0.5871\n",
      "Epoch 72/100\n",
      "66/66 [==============================] - 10s 147ms/step - loss: 0.6298 - accuracy: 0.6416 - val_loss: 0.6653 - val_accuracy: 0.5701\n",
      "Epoch 73/100\n",
      "66/66 [==============================] - 10s 145ms/step - loss: 0.6047 - accuracy: 0.6766 - val_loss: 0.5694 - val_accuracy: 0.7330\n",
      "Epoch 74/100\n",
      "66/66 [==============================] - 10s 145ms/step - loss: 0.6304 - accuracy: 0.6444 - val_loss: 0.7962 - val_accuracy: 0.5208\n",
      "Epoch 75/100\n",
      "66/66 [==============================] - 10s 145ms/step - loss: 0.7389 - accuracy: 0.5876 - val_loss: 0.5678 - val_accuracy: 0.7348\n",
      "Epoch 76/100\n",
      "66/66 [==============================] - 10s 146ms/step - loss: 0.6545 - accuracy: 0.6207 - val_loss: 0.5695 - val_accuracy: 0.7254\n",
      "Epoch 77/100\n",
      "66/66 [==============================] - 10s 146ms/step - loss: 0.6192 - accuracy: 0.6525 - val_loss: 0.8068 - val_accuracy: 0.5189\n",
      "Epoch 78/100\n",
      "66/66 [==============================] - 10s 146ms/step - loss: 0.6487 - accuracy: 0.6359 - val_loss: 0.5659 - val_accuracy: 0.7330\n",
      "Epoch 79/100\n",
      "66/66 [==============================] - 10s 146ms/step - loss: 0.6150 - accuracy: 0.6624 - val_loss: 0.5741 - val_accuracy: 0.7121\n",
      "Epoch 80/100\n",
      "66/66 [==============================] - 10s 145ms/step - loss: 0.6197 - accuracy: 0.6567 - val_loss: 0.5693 - val_accuracy: 0.7386\n",
      "Epoch 81/100\n",
      "66/66 [==============================] - 10s 145ms/step - loss: 0.7095 - accuracy: 0.5876 - val_loss: 0.6552 - val_accuracy: 0.5814\n",
      "Epoch 82/100\n",
      "66/66 [==============================] - 10s 146ms/step - loss: 0.6711 - accuracy: 0.6188 - val_loss: 0.5904 - val_accuracy: 0.6799\n",
      "Epoch 83/100\n",
      "66/66 [==============================] - 10s 145ms/step - loss: 0.6612 - accuracy: 0.6293 - val_loss: 0.5775 - val_accuracy: 0.6989\n",
      "Epoch 84/100\n",
      "66/66 [==============================] - 10s 145ms/step - loss: 0.5981 - accuracy: 0.6785 - val_loss: 0.5987 - val_accuracy: 0.6667\n",
      "Epoch 85/100\n",
      "66/66 [==============================] - 10s 145ms/step - loss: 0.6145 - accuracy: 0.6553 - val_loss: 0.5903 - val_accuracy: 0.6818\n",
      "Epoch 86/100\n",
      "66/66 [==============================] - 10s 145ms/step - loss: 0.6471 - accuracy: 0.6330 - val_loss: 0.6090 - val_accuracy: 0.6326\n",
      "Epoch 87/100\n",
      "66/66 [==============================] - 10s 146ms/step - loss: 0.6807 - accuracy: 0.6179 - val_loss: 0.5871 - val_accuracy: 0.6799\n",
      "Epoch 88/100\n",
      "66/66 [==============================] - 10s 145ms/step - loss: 0.6244 - accuracy: 0.6449 - val_loss: 0.6555 - val_accuracy: 0.5909\n",
      "Epoch 89/100\n",
      "66/66 [==============================] - 10s 145ms/step - loss: 0.6329 - accuracy: 0.6250 - val_loss: 0.5655 - val_accuracy: 0.7330\n",
      "Epoch 90/100\n",
      "66/66 [==============================] - 10s 146ms/step - loss: 0.6091 - accuracy: 0.6667 - val_loss: 0.5595 - val_accuracy: 0.7235\n",
      "Epoch 91/100\n",
      "66/66 [==============================] - 10s 145ms/step - loss: 0.6247 - accuracy: 0.6435 - val_loss: 0.5912 - val_accuracy: 0.6667\n",
      "Epoch 92/100\n",
      "66/66 [==============================] - 10s 146ms/step - loss: 0.6341 - accuracy: 0.6345 - val_loss: 0.6048 - val_accuracy: 0.6402\n",
      "Epoch 93/100\n",
      "66/66 [==============================] - 10s 145ms/step - loss: 0.6220 - accuracy: 0.6439 - val_loss: 0.5656 - val_accuracy: 0.7292\n",
      "Epoch 94/100\n",
      "66/66 [==============================] - 10s 146ms/step - loss: 0.6451 - accuracy: 0.6392 - val_loss: 0.5726 - val_accuracy: 0.6989\n",
      "Epoch 95/100\n",
      "66/66 [==============================] - 10s 146ms/step - loss: 0.7103 - accuracy: 0.5947 - val_loss: 0.5574 - val_accuracy: 0.7178\n",
      "Epoch 96/100\n",
      "66/66 [==============================] - 10s 145ms/step - loss: 0.6320 - accuracy: 0.6359 - val_loss: 0.5583 - val_accuracy: 0.7311\n",
      "Epoch 97/100\n",
      "66/66 [==============================] - 10s 146ms/step - loss: 0.6456 - accuracy: 0.6326 - val_loss: 0.5691 - val_accuracy: 0.7140\n",
      "Epoch 98/100\n",
      "66/66 [==============================] - 10s 145ms/step - loss: 0.6144 - accuracy: 0.6629 - val_loss: 0.5838 - val_accuracy: 0.6856\n",
      "Epoch 99/100\n",
      "66/66 [==============================] - 10s 145ms/step - loss: 0.6030 - accuracy: 0.6709 - val_loss: 0.6698 - val_accuracy: 0.5852\n",
      "Epoch 100/100\n",
      "66/66 [==============================] - 10s 145ms/step - loss: 0.6443 - accuracy: 0.6193 - val_loss: 0.5681 - val_accuracy: 0.7178\n"
     ]
    }
   ],
   "source": [
    "history = final_arc.fit(train_x, train_y, validation_data=(test_x,test_y), epochs = 100)"
   ]
  },
  {
   "cell_type": "code",
   "execution_count": 16,
   "metadata": {},
   "outputs": [
    {
     "data": {
      "image/png": "[encoded data removed]",
      "text/plain": [
       "<Figure size 640x480 with 1 Axes>"
      ]
     },
     "metadata": {},
     "output_type": "display_data"
    }
   ],
   "source": [
    "training_acc = history.history['accuracy']\n",
    "test_acc = history.history['val_accuracy']\n",
    "epoch_count = range(1, len(training_acc) + 1)\n",
    "plt.plot(epoch_count, training_acc, 'r--')\n",
    "plt.plot(epoch_count, test_acc, 'b-')\n",
    "plt.legend(['Training', 'Test'])\n",
    "plt.xlabel('Epoch')\n",
    "plt.ylabel('Accuracy')\n",
    "plt.show()"
   ]
  },
  {
   "cell_type": "code",
   "execution_count": 17,
   "metadata": {},
   "outputs": [
    {
     "name": "stdout",
     "output_type": "stream",
     "text": [
      "17/17 [==============================] - 2s 134ms/step - loss: 0.5680 - accuracy: 0.7178\n",
      "17/17 [==============================] - 3s 145ms/step\n",
      "              precision    recall  f1-score   support\n",
      "\n",
      "           0       0.82      0.58      0.68       275\n",
      "           1       0.66      0.87      0.75       253\n",
      "\n",
      "    accuracy                           0.72       528\n",
      "   macro avg       0.74      0.72      0.71       528\n",
      "weighted avg       0.74      0.72      0.71       528\n",
      "\n"
     ]
    }
   ],
   "source": [
    "testing = final_arc.evaluate(test_x, test_y)\n",
    "predictions = final_arc.predict(test_x)\n",
    "pred_y = np.argmax(predictions, axis = 1)\n",
    "test_y = np.argmax(test_y, axis=1)\n",
    "print(classification_report(test_y,pred_y))"
   ]
  },
  {
   "cell_type": "code",
   "execution_count": 18,
   "metadata": {},
   "outputs": [
    {
     "name": "stdout",
     "output_type": "stream",
     "text": [
      "[[160 115]\n",
      " [ 34 219]]\n"
     ]
    }
   ],
   "source": [
    "cm = confusion_matrix(test_y, pred_y)\n",
    "print(cm)"
   ]
  }
 ],
 "metadata": {
  "kernelspec": {
   "display_name": "Python 3",
   "language": "python",
   "name": "python3"
  },
  "language_info": {
   "codemirror_mode": {
    "name": "ipython",
    "version": 3
   },
   "file_extension": ".py",
   "mimetype": "text/x-python",
   "name": "python",
   "nbconvert_exporter": "python",
   "pygments_lexer": "ipython3",
   "version": "3.9.5"
  },
  "orig_nbformat": 4
 },
 "nbformat": 4,
 "nbformat_minor": 2
}
