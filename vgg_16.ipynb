{
 "cells": [
  {
   "cell_type": "code",
   "execution_count": null,
   "metadata": {},
   "outputs": [],
   "source": [
    "import os\n",
    "import cv2\n",
    "import numpy as np\n",
    "import pandas as pd\n",
    "from tqdm import tqdm\n",
    "import tensorflow as tf\n",
    "import matplotlib.pyplot as plt\n",
    "from sklearn.utils import shuffle\n",
    "from sklearn.compose import ColumnTransformer\n",
    "from sklearn.preprocessing import OneHotEncoder\n",
    "from sklearn.metrics import confusion_matrix\n",
    "from sklearn.metrics import classification_report\n",
    "from sklearn.model_selection import train_test_split"
   ]
  },
  {
   "cell_type": "code",
   "execution_count": null,
   "metadata": {},
   "outputs": [],
   "source": [
    "D1_LINEAR_GAUSIAN_250px = \"D://250px_LI_GB_D1/\"\n",
    "D2_LINEAR_GAUSIAN_250px = \"D://250px_LI_GB_D2/\"\n",
    "ds_type = D1_LINEAR_GAUSIAN_250px\n",
    "dataset_path = signature_types = os.listdir(ds_type)\n",
    "signs = []\n",
    "for item in signature_types:\n",
    "  all_signs = os.listdir(ds_type+\"/\"+item)\n",
    "  for sign in all_signs:\n",
    "    if sign.endswith(\".db\"):\n",
    "      pass\n",
    "    else: \n",
    "      signs.append((item, str(ds_type+\"/\"+item) + \"/\" + sign))\n",
    "signs_df = pd.DataFrame(data = signs, columns = [\"sign type\", \"image\"])\n",
    "sign_count = signs_df[\"sign type\"].value_counts()\n",
    "print(\"Signatures in each category:\")\n",
    "print(sign_count)"
   ]
  },
  {
   "cell_type": "code",
   "execution_count": null,
   "metadata": {},
   "outputs": [],
   "source": [
    "images = []\n",
    "labels = []\n",
    "for i in signature_types:\n",
    "  data_path = ds_type + str(i)\n",
    "  filenames = [i for i in os.listdir(data_path)]\n",
    "  for f in tqdm(filenames, desc=f\"Processing {i}\"):\n",
    "    if f.endswith(\".db\"):\n",
    "      pass\n",
    "    else:\n",
    "      img = cv2.imread(data_path + \"/\" + f)\n",
    "      images.append(img)\n",
    "      labels.append(i)"
   ]
  },
  {
   "cell_type": "code",
   "execution_count": null,
   "metadata": {},
   "outputs": [],
   "source": [
    "images = np.array(images)\n",
    "images = images.astype('float32') / 255.0"
   ]
  },
  {
   "cell_type": "code",
   "execution_count": null,
   "metadata": {},
   "outputs": [],
   "source": [
    "y = signs_df['sign type'].values\n",
    "y = y.reshape(-1,1)\n",
    "columnTransformer = ColumnTransformer([('encoder', OneHotEncoder(), [0])], remainder='passthrough')\n",
    "Y=np.array(columnTransformer.fit_transform(y),dtype='float32')\n",
    "print(Y.shape)"
   ]
  },
  {
   "cell_type": "code",
   "execution_count": null,
   "metadata": {},
   "outputs": [],
   "source": [
    "images, Y = shuffle(images,Y,random_state=42)\n",
    "train_x,test_x,train_y,test_y = train_test_split(images, Y, test_size=0.2, random_state=42)\n",
    "print(train_x.shape)\n",
    "print(test_x.shape)\n",
    "print(train_y.shape)\n",
    "print(test_y.shape)"
   ]
  },
  {
   "cell_type": "code",
   "execution_count": null,
   "metadata": {},
   "outputs": [],
   "source": [
    "train_x = train_x / 255.0\n",
    "test_x = test_x / 255.0"
   ]
  },
  {
   "cell_type": "code",
   "execution_count": null,
   "metadata": {},
   "outputs": [],
   "source": [
    "from tensorflow.keras.applications import VGG16\n",
    "# from tensorflow.keras.applications import VGG19\n",
    "from tensorflow.keras.layers import Input, Dense, Conv2D, Activation, MaxPooling2D, Flatten\n",
    "from tensorflow.keras.preprocessing.image import ImageDataGenerator, load_img\n",
    "from tensorflow.keras.models import Model, Sequential"
   ]
  },
  {
   "cell_type": "code",
   "execution_count": null,
   "metadata": {},
   "outputs": [],
   "source": [
    "image_size = [250,250]\n",
    "model = VGG16(input_shape=image_size+[3], include_top=False, weights='imagenet')"
   ]
  },
  {
   "cell_type": "code",
   "execution_count": null,
   "metadata": {},
   "outputs": [],
   "source": [
    "for layers in model.layers:\n",
    "  layers.trainable = False"
   ]
  },
  {
   "cell_type": "code",
   "execution_count": null,
   "metadata": {},
   "outputs": [],
   "source": [
    "final_arc = Model(inputs=model.input,outputs=Dense(2,activation='softmax')(Flatten()(model.output)))"
   ]
  },
  {
   "cell_type": "code",
   "execution_count": null,
   "metadata": {},
   "outputs": [],
   "source": [
    "final_arc.compile(optimizer='adam',loss='CategoricalCrossentropy',metrics=['accuracy'])"
   ]
  },
  {
   "cell_type": "code",
   "execution_count": null,
   "metadata": {},
   "outputs": [],
   "source": [
    "history = final_arc.fit(train_x, train_y, validation_data=(test_x,test_y), epochs = 20)"
   ]
  },
  {
   "cell_type": "code",
   "execution_count": null,
   "metadata": {},
   "outputs": [],
   "source": [
    "training_acc = history.history['accuracy']\n",
    "test_acc = history.history['val_accuracy']\n",
    "epoch_count = range(1, len(training_acc) + 1)\n",
    "plt.plot(epoch_count, training_acc, 'r--')\n",
    "plt.plot(epoch_count, test_acc, 'b-')\n",
    "plt.legend(['Training', 'Test'])\n",
    "plt.xlabel('Epoch')\n",
    "plt.ylabel('Accuracy')\n",
    "plt.show()"
   ]
  },
  {
   "cell_type": "code",
   "execution_count": null,
   "metadata": {},
   "outputs": [],
   "source": [
    "testing = final_arc.evaluate(test_x, test_y)\n",
    "predictions = final_arc.predict(test_x)\n",
    "pred_y = np.argmax(predictions, axis = 1)\n",
    "test_y = np.argmax(test_y, axis=1)\n",
    "print(classification_report(test_y,pred_y))"
   ]
  },
  {
   "cell_type": "code",
   "execution_count": null,
   "metadata": {},
   "outputs": [],
   "source": [
    "# cm = confusion_matrix(test_y, pred_y)\n",
    "# print(cm)\n",
    "cm = tf.math.confusion_matrix(test_y, pred_y)\n",
    "print(cm)"
   ]
  }
 ],
 "metadata": {
  "kernelspec": {
   "display_name": "Python 3",
   "language": "python",
   "name": "python3"
  },
  "language_info": {
   "codemirror_mode": {
    "name": "ipython",
    "version": 3
   },
   "file_extension": ".py",
   "mimetype": "text/x-python",
   "name": "python",
   "nbconvert_exporter": "python",
   "pygments_lexer": "ipython3",
   "version": "3.9.5"
  },
  "orig_nbformat": 4
 },
 "nbformat": 4,
 "nbformat_minor": 2
}
