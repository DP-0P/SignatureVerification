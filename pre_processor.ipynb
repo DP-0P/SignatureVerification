{
 "cells": [
  {
   "cell_type": "code",
   "execution_count": 8,
   "metadata": {},
   "outputs": [],
   "source": [
    "import os\n",
    "import cv2\n",
    "from tqdm import tqdm\n",
    "import numpy as np"
   ]
  },
  {
   "cell_type": "code",
   "execution_count": 12,
   "metadata": {},
   "outputs": [
    {
     "name": "stderr",
     "output_type": "stream",
     "text": [
      "Processing forgeries: 100%|██████████| 734/734 [07:27<00:00,  1.64it/s]\n",
      "Processing genuine: 100%|██████████| 887/887 [09:00<00:00,  1.64it/s]\n"
     ]
    }
   ],
   "source": [
    "path = \"D://kaggle_dataset/\"\n",
    "signature_types = os.listdir(path)\n",
    "image_size = 250\n",
    "for i in signature_types:\n",
    "  data_path = path + str(i)\n",
    "  filenames = [i for i in os.listdir(data_path)]\n",
    "  for f in tqdm(filenames, desc=f\"Processing {i}\"):\n",
    "    # if f.endswith(\".png\"):\n",
    "      img = cv2.imread(data_path + \"/\" + f)\n",
    "      img = cv2.resize(img,(image_size, image_size), interpolation = cv2.INTER_CUBIC)\n",
    "      ## cv2.resize() -> resizing image using linear interpolation\n",
    "      # img = cv2.cvtColor(img, cv2.COLOR_BGR2GRAY)\n",
    "      ## changing RGB to Greyscale\n",
    "      # test = np.expand_dims(grey_img, axis=-1)\n",
    "      denoise_img = cv2.fastNlMeansDenoisingColored(img,None,2,5,9,23)\n",
    "      ## cv2.fastNlMeansDenoisingColored() by default applies Gausian Blur\n",
    "      # cv2.imwrite(\"D://300px_LI_GB_D2//\"+f+\".png\", denoise_img)\n",
    "      if i == \"forgeries\":\n",
    "        cv2.imwrite(\"D://250px_CI_GB_D2//forgeries//\"+f+\".png\", denoise_img)\n",
    "      else:\n",
    "        cv2.imwrite(\"D://250px_CI_GB_D2//genuine//\"+f+\".png\", denoise_img)\n",
    "        \n",
    "        "
   ]
  }
 ],
 "metadata": {
  "kernelspec": {
   "display_name": "base",
   "language": "python",
   "name": "python3"
  },
  "language_info": {
   "codemirror_mode": {
    "name": "ipython",
    "version": 3
   },
   "file_extension": ".py",
   "mimetype": "text/x-python",
   "name": "python",
   "nbconvert_exporter": "python",
   "pygments_lexer": "ipython3",
   "version": "3.9.13"
  },
  "orig_nbformat": 4
 },
 "nbformat": 4,
 "nbformat_minor": 2
}
