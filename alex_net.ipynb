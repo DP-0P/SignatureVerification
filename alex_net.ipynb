{
 "cells": [
  {
   "cell_type": "code",
   "execution_count": 1,
   "metadata": {},
   "outputs": [],
   "source": [
    "import os\n",
    "import cv2\n",
    "import numpy as np\n",
    "import pandas as pd\n",
    "from tqdm import tqdm\n",
    "import tensorflow as tf\n",
    "import matplotlib.pyplot as plt\n",
    "from sklearn.utils import shuffle\n",
    "from sklearn.compose import ColumnTransformer\n",
    "from sklearn.preprocessing import OneHotEncoder\n",
    "from sklearn.metrics import confusion_matrix\n",
    "from sklearn.metrics import classification_report\n",
    "from sklearn.model_selection import train_test_split\n",
    "from tensorflow.keras.layers import Dense\n",
    "from tensorflow.keras.layers import Dropout\n",
    "from tensorflow.keras.models import Sequential\n",
    "from tensorflow.keras.layers import Flatten, Conv2D, MaxPooling2D, Activation\n",
    "from tensorflow.keras.layers import BatchNormalization"
   ]
  },
  {
   "cell_type": "code",
   "execution_count": 2,
   "metadata": {},
   "outputs": [
    {
     "name": "stdout",
     "output_type": "stream",
     "text": [
      "Signatures in each category:\n",
      "forgeries    1320\n",
      "genuine      1320\n",
      "Name: sign type, dtype: int64\n"
     ]
    }
   ],
   "source": [
    "D1_LINEAR_GAUSIAN_227px = \"D://227px_LI_GB_D1/\"\n",
    "D2_LINEAR_GAUSIAN_227px = \"D://227px_LI_GB_D2/\"\n",
    "ds_type = D1_LINEAR_GAUSIAN_227px\n",
    "dataset_path = signature_types = os.listdir(ds_type)\n",
    "signs = []\n",
    "for item in signature_types:\n",
    "  all_signs = os.listdir(ds_type+\"/\"+item)\n",
    "  for sign in all_signs:\n",
    "    if sign.endswith(\".db\"):\n",
    "      pass\n",
    "    else: \n",
    "      signs.append((item, str(ds_type+\"/\"+item) + \"/\" + sign))\n",
    "signs_df = pd.DataFrame(data = signs, columns = [\"sign type\", \"image\"])\n",
    "sign_count = signs_df[\"sign type\"].value_counts()\n",
    "print(\"Signatures in each category:\")\n",
    "print(sign_count)"
   ]
  },
  {
   "cell_type": "code",
   "execution_count": 3,
   "metadata": {},
   "outputs": [
    {
     "name": "stderr",
     "output_type": "stream",
     "text": [
      "Processing forgeries: 100%|██████████| 1320/1320 [00:01<00:00, 1288.25it/s]\n",
      "Processing genuine: 100%|██████████| 1320/1320 [00:00<00:00, 1331.82it/s]\n"
     ]
    }
   ],
   "source": [
    "images = []\n",
    "labels = []\n",
    "for i in signature_types:\n",
    "  data_path = ds_type + str(i)\n",
    "  filenames = [i for i in os.listdir(data_path)]\n",
    "  for f in tqdm(filenames, desc=f\"Processing {i}\"):\n",
    "    if f.endswith(\".db\"):\n",
    "      pass\n",
    "    else:\n",
    "      img = cv2.imread(data_path + \"/\" + f)\n",
    "      images.append(img)\n",
    "      labels.append(i)"
   ]
  },
  {
   "cell_type": "code",
   "execution_count": 4,
   "metadata": {},
   "outputs": [],
   "source": [
    "images = np.array(images)\n",
    "images = images.astype('float32') / 255.0"
   ]
  },
  {
   "cell_type": "code",
   "execution_count": 5,
   "metadata": {},
   "outputs": [
    {
     "name": "stdout",
     "output_type": "stream",
     "text": [
      "(2640, 2)\n"
     ]
    }
   ],
   "source": [
    "y = signs_df['sign type'].values\n",
    "y = y.reshape(-1,1)\n",
    "columnTransformer = ColumnTransformer([('encoder', OneHotEncoder(), [0])], remainder='passthrough')\n",
    "Y=np.array(columnTransformer.fit_transform(y),dtype='float32')\n",
    "print(Y.shape)"
   ]
  },
  {
   "cell_type": "code",
   "execution_count": 6,
   "metadata": {},
   "outputs": [
    {
     "name": "stdout",
     "output_type": "stream",
     "text": [
      "(2112, 227, 227, 3)\n",
      "(528, 227, 227, 3)\n",
      "(2112, 2)\n",
      "(528, 2)\n"
     ]
    }
   ],
   "source": [
    "images, Y = shuffle(images,Y,random_state=1)\n",
    "train_x,test_x,train_y,test_y = train_test_split(images, Y, test_size=0.2, random_state=42)\n",
    "print(train_x.shape)\n",
    "print(test_x.shape)\n",
    "print(train_y.shape)\n",
    "print(test_y.shape)"
   ]
  },
  {
   "cell_type": "code",
   "execution_count": 7,
   "metadata": {},
   "outputs": [],
   "source": [
    "train_x = train_x / 255.0\n",
    "test_x = test_x / 255.0"
   ]
  },
  {
   "cell_type": "code",
   "execution_count": 8,
   "metadata": {},
   "outputs": [],
   "source": [
    "model = Sequential()\n",
    "model.add(Conv2D(filters=96,strides=(4,4), kernel_size=(11,11),padding='valid',input_shape=(227,227,3),activation='relu'))\n",
    "model.add(BatchNormalization())\n",
    "model.add(MaxPooling2D(pool_size=(3,3),strides=(2,2)))\n",
    "model.add(Conv2D(filters=256,strides=(1,1), kernel_size=(5,5),padding='valid',activation='relu'))\n",
    "model.add(MaxPooling2D(pool_size=(3,3),strides=(2,2)))\n",
    "model.add(Conv2D(filters=384,strides=(1,1), kernel_size=(3,3),padding='valid',activation='relu'))\n",
    "model.add(BatchNormalization())\n",
    "model.add(Conv2D(filters=384,strides=(1,1), kernel_size=(3,3),padding='valid',activation='relu'))\n",
    "model.add(BatchNormalization())\n",
    "model.add(Conv2D(filters=256,strides=(1,1), kernel_size=(3,3),padding='valid',activation='relu'))\n",
    "model.add(BatchNormalization())\n",
    "model.add(MaxPooling2D(pool_size=(3,3),strides=(2,2), padding='valid'))\n",
    "model.add(Flatten())\n",
    "model.add(Dense(units=4096, activation='relu'))\n",
    "model.add(Dropout(0.2))\n",
    "model.add(Dense(units=4096, activation='relu'))\n",
    "model.add(Dropout(0.2))\n",
    "model.add(Dense(units=2,activation='sigmoid'))"
   ]
  },
  {
   "cell_type": "code",
   "execution_count": 9,
   "metadata": {},
   "outputs": [],
   "source": [
    "# model.summary()"
   ]
  },
  {
   "cell_type": "code",
   "execution_count": 10,
   "metadata": {},
   "outputs": [],
   "source": [
    "model.compile(loss='binary_crossentropy',optimizer='adam',metrics=['accuracy'])"
   ]
  },
  {
   "cell_type": "code",
   "execution_count": 11,
   "metadata": {},
   "outputs": [
    {
     "name": "stdout",
     "output_type": "stream",
     "text": [
      "Epoch 1/100\n",
      "66/66 [==============================] - 5s 39ms/step - loss: 0.4046 - accuracy: 0.9654 - val_loss: 83.3501 - val_accuracy: 0.5057\n",
      "Epoch 2/100\n",
      "66/66 [==============================] - 2s 31ms/step - loss: 0.0373 - accuracy: 0.9844 - val_loss: 7.2011 - val_accuracy: 0.5057\n",
      "Epoch 3/100\n",
      "66/66 [==============================] - 2s 31ms/step - loss: 0.0206 - accuracy: 0.9929 - val_loss: 0.6631 - val_accuracy: 0.5057\n",
      "Epoch 4/100\n",
      "66/66 [==============================] - 2s 30ms/step - loss: 0.0654 - accuracy: 0.9863 - val_loss: 2.7719 - val_accuracy: 0.5057\n",
      "Epoch 5/100\n",
      "66/66 [==============================] - 2s 31ms/step - loss: 0.4271 - accuracy: 0.9782 - val_loss: 233.3353 - val_accuracy: 0.5057\n",
      "Epoch 6/100\n",
      "66/66 [==============================] - 2s 30ms/step - loss: 0.0217 - accuracy: 0.9934 - val_loss: 42.6126 - val_accuracy: 0.5057\n",
      "Epoch 7/100\n",
      "66/66 [==============================] - 2s 30ms/step - loss: 0.0344 - accuracy: 0.9929 - val_loss: 27.6239 - val_accuracy: 0.5057\n",
      "Epoch 8/100\n",
      "66/66 [==============================] - 2s 30ms/step - loss: 0.0274 - accuracy: 0.9948 - val_loss: 0.0124 - val_accuracy: 0.9943\n",
      "Epoch 9/100\n",
      "66/66 [==============================] - 2s 30ms/step - loss: 0.0157 - accuracy: 0.9962 - val_loss: 0.7569 - val_accuracy: 0.9394\n",
      "Epoch 10/100\n",
      "66/66 [==============================] - 2s 30ms/step - loss: 0.0348 - accuracy: 0.9938 - val_loss: 0.0968 - val_accuracy: 0.9754\n",
      "Epoch 11/100\n",
      "66/66 [==============================] - 2s 30ms/step - loss: 0.0160 - accuracy: 0.9967 - val_loss: 3.1955e-05 - val_accuracy: 1.0000\n",
      "Epoch 12/100\n",
      "66/66 [==============================] - 2s 30ms/step - loss: 0.0058 - accuracy: 0.9981 - val_loss: 0.0047 - val_accuracy: 0.9981\n",
      "Epoch 13/100\n",
      "66/66 [==============================] - 2s 30ms/step - loss: 0.0198 - accuracy: 0.9943 - val_loss: 0.1531 - val_accuracy: 0.9508\n",
      "Epoch 14/100\n",
      "66/66 [==============================] - 2s 30ms/step - loss: 0.0045 - accuracy: 0.9976 - val_loss: 0.0057 - val_accuracy: 0.9962\n",
      "Epoch 15/100\n",
      "66/66 [==============================] - 2s 30ms/step - loss: 0.1030 - accuracy: 0.9830 - val_loss: 436.5557 - val_accuracy: 0.4943\n",
      "Epoch 16/100\n",
      "66/66 [==============================] - 2s 30ms/step - loss: 0.2082 - accuracy: 0.9853 - val_loss: 434.9484 - val_accuracy: 0.5057\n",
      "Epoch 17/100\n",
      "66/66 [==============================] - 2s 30ms/step - loss: 0.0242 - accuracy: 0.9929 - val_loss: 194.5991 - val_accuracy: 0.5057\n",
      "Epoch 18/100\n",
      "66/66 [==============================] - 2s 30ms/step - loss: 0.0144 - accuracy: 0.9953 - val_loss: 0.0222 - val_accuracy: 1.0000\n",
      "Epoch 19/100\n",
      "66/66 [==============================] - 2s 30ms/step - loss: 0.0121 - accuracy: 0.9957 - val_loss: 0.0090 - val_accuracy: 0.9962\n",
      "Epoch 20/100\n",
      "66/66 [==============================] - 2s 30ms/step - loss: 0.0216 - accuracy: 0.9938 - val_loss: 0.0041 - val_accuracy: 1.0000\n",
      "Epoch 21/100\n",
      "66/66 [==============================] - 2s 30ms/step - loss: 0.0115 - accuracy: 0.9962 - val_loss: 6.5943 - val_accuracy: 0.8542\n",
      "Epoch 22/100\n",
      "66/66 [==============================] - 2s 30ms/step - loss: 0.0135 - accuracy: 0.9938 - val_loss: 0.2223 - val_accuracy: 0.9716\n",
      "Epoch 23/100\n",
      "66/66 [==============================] - 2s 30ms/step - loss: 0.0118 - accuracy: 0.9967 - val_loss: 0.3909 - val_accuracy: 0.8523\n",
      "Epoch 24/100\n",
      "66/66 [==============================] - 2s 30ms/step - loss: 0.0088 - accuracy: 0.9972 - val_loss: 0.0472 - val_accuracy: 0.9811\n",
      "Epoch 25/100\n",
      "66/66 [==============================] - 2s 30ms/step - loss: 0.0026 - accuracy: 0.9991 - val_loss: 9.4711e-11 - val_accuracy: 1.0000\n",
      "Epoch 26/100\n",
      "66/66 [==============================] - 2s 30ms/step - loss: 0.0076 - accuracy: 0.9986 - val_loss: 10.9211 - val_accuracy: 0.8750\n",
      "Epoch 27/100\n",
      "66/66 [==============================] - 2s 30ms/step - loss: 0.0506 - accuracy: 0.9905 - val_loss: 364.5827 - val_accuracy: 0.4943\n",
      "Epoch 28/100\n",
      "66/66 [==============================] - 2s 30ms/step - loss: 0.0025 - accuracy: 0.9991 - val_loss: 193.5275 - val_accuracy: 0.5057\n",
      "Epoch 29/100\n",
      "66/66 [==============================] - 2s 30ms/step - loss: 0.0270 - accuracy: 0.9957 - val_loss: 96.0797 - val_accuracy: 0.5152\n",
      "Epoch 30/100\n",
      "66/66 [==============================] - 2s 30ms/step - loss: 0.0099 - accuracy: 0.9981 - val_loss: 39.2763 - val_accuracy: 0.5871\n",
      "Epoch 31/100\n",
      "66/66 [==============================] - 2s 30ms/step - loss: 0.0022 - accuracy: 0.9991 - val_loss: 9.1636 - val_accuracy: 0.8655\n",
      "Epoch 32/100\n",
      "66/66 [==============================] - 2s 30ms/step - loss: 0.0072 - accuracy: 0.9986 - val_loss: 188.9376 - val_accuracy: 0.4943\n",
      "Epoch 33/100\n",
      "66/66 [==============================] - 2s 30ms/step - loss: 0.0138 - accuracy: 0.9948 - val_loss: 1.2109e-04 - val_accuracy: 1.0000\n",
      "Epoch 34/100\n",
      "66/66 [==============================] - 2s 30ms/step - loss: 0.0019 - accuracy: 0.9991 - val_loss: 6.1996e-07 - val_accuracy: 1.0000\n",
      "Epoch 35/100\n",
      "66/66 [==============================] - 2s 30ms/step - loss: 0.0049 - accuracy: 0.9981 - val_loss: 3.2027e-04 - val_accuracy: 1.0000\n",
      "Epoch 36/100\n",
      "66/66 [==============================] - 2s 30ms/step - loss: 0.0128 - accuracy: 0.9943 - val_loss: 116.5526 - val_accuracy: 0.5133\n",
      "Epoch 37/100\n",
      "66/66 [==============================] - 2s 30ms/step - loss: 0.0210 - accuracy: 0.9981 - val_loss: 240.4261 - val_accuracy: 0.5057\n",
      "Epoch 38/100\n",
      "66/66 [==============================] - 2s 30ms/step - loss: 0.0029 - accuracy: 0.9991 - val_loss: 41.9885 - val_accuracy: 0.6212\n",
      "Epoch 39/100\n",
      "66/66 [==============================] - 2s 31ms/step - loss: 0.0262 - accuracy: 0.9981 - val_loss: 132.4566 - val_accuracy: 0.7576\n",
      "Epoch 40/100\n",
      "66/66 [==============================] - 2s 30ms/step - loss: 0.0266 - accuracy: 0.9957 - val_loss: 6.1825 - val_accuracy: 0.6932\n",
      "Epoch 41/100\n",
      "66/66 [==============================] - 2s 30ms/step - loss: 0.5386 - accuracy: 0.9886 - val_loss: 6627.1533 - val_accuracy: 0.5057\n",
      "Epoch 42/100\n",
      "66/66 [==============================] - 2s 30ms/step - loss: 0.4232 - accuracy: 0.9872 - val_loss: 14332.6279 - val_accuracy: 0.5057\n",
      "Epoch 43/100\n",
      "66/66 [==============================] - 2s 30ms/step - loss: 0.0288 - accuracy: 0.9929 - val_loss: 4414.9092 - val_accuracy: 0.5057\n",
      "Epoch 44/100\n",
      "66/66 [==============================] - 2s 30ms/step - loss: 0.0396 - accuracy: 0.9924 - val_loss: 231.4731 - val_accuracy: 0.8144\n",
      "Epoch 45/100\n",
      "66/66 [==============================] - 2s 30ms/step - loss: 0.0236 - accuracy: 0.9929 - val_loss: 0.0059 - val_accuracy: 0.9981\n",
      "Epoch 46/100\n",
      "66/66 [==============================] - 2s 30ms/step - loss: 0.0077 - accuracy: 0.9972 - val_loss: 0.0073 - val_accuracy: 1.0000\n",
      "Epoch 47/100\n",
      "66/66 [==============================] - 2s 30ms/step - loss: 0.0036 - accuracy: 0.9986 - val_loss: 0.0012 - val_accuracy: 1.0000\n",
      "Epoch 48/100\n",
      "66/66 [==============================] - 2s 31ms/step - loss: 0.0033 - accuracy: 0.9986 - val_loss: 0.0136 - val_accuracy: 0.9924\n",
      "Epoch 49/100\n",
      "66/66 [==============================] - 2s 30ms/step - loss: 0.0045 - accuracy: 0.9976 - val_loss: 0.0091 - val_accuracy: 0.9943\n",
      "Epoch 50/100\n",
      "66/66 [==============================] - 2s 30ms/step - loss: 0.0078 - accuracy: 0.9981 - val_loss: 0.0158 - val_accuracy: 0.9924\n",
      "Epoch 51/100\n",
      "66/66 [==============================] - 2s 30ms/step - loss: 0.0054 - accuracy: 0.9981 - val_loss: 0.0383 - val_accuracy: 0.9905\n",
      "Epoch 52/100\n",
      "66/66 [==============================] - 2s 30ms/step - loss: 0.0049 - accuracy: 0.9981 - val_loss: 0.0177 - val_accuracy: 0.9924\n",
      "Epoch 53/100\n",
      "66/66 [==============================] - 2s 30ms/step - loss: 0.0020 - accuracy: 0.9995 - val_loss: 8.1276e-05 - val_accuracy: 1.0000\n",
      "Epoch 54/100\n",
      "66/66 [==============================] - 2s 30ms/step - loss: 0.0076 - accuracy: 0.9972 - val_loss: 3.6044e-04 - val_accuracy: 1.0000\n",
      "Epoch 55/100\n",
      "66/66 [==============================] - 2s 30ms/step - loss: 0.0074 - accuracy: 0.9976 - val_loss: 4.7828e-07 - val_accuracy: 1.0000\n",
      "Epoch 56/100\n",
      "66/66 [==============================] - 2s 30ms/step - loss: 0.0046 - accuracy: 0.9991 - val_loss: 4.3560e-06 - val_accuracy: 1.0000\n",
      "Epoch 57/100\n",
      "66/66 [==============================] - 2s 31ms/step - loss: 4.2707e-04 - accuracy: 0.9995 - val_loss: 1.1595e-06 - val_accuracy: 1.0000\n",
      "Epoch 58/100\n",
      "66/66 [==============================] - 2s 30ms/step - loss: 0.0010 - accuracy: 0.9995 - val_loss: 9.3117e-04 - val_accuracy: 1.0000\n",
      "Epoch 59/100\n",
      "66/66 [==============================] - 2s 30ms/step - loss: 0.0087 - accuracy: 0.9986 - val_loss: 0.0028 - val_accuracy: 1.0000\n",
      "Epoch 60/100\n",
      "66/66 [==============================] - 2s 31ms/step - loss: 0.0135 - accuracy: 0.9953 - val_loss: 0.0024 - val_accuracy: 1.0000\n",
      "Epoch 61/100\n",
      "66/66 [==============================] - 2s 30ms/step - loss: 0.0055 - accuracy: 0.9981 - val_loss: 5.1145e-05 - val_accuracy: 1.0000\n",
      "Epoch 62/100\n",
      "66/66 [==============================] - 2s 30ms/step - loss: 2.3977e-04 - accuracy: 1.0000 - val_loss: 7.9961e-07 - val_accuracy: 1.0000\n",
      "Epoch 63/100\n",
      "66/66 [==============================] - 2s 30ms/step - loss: 0.0088 - accuracy: 0.9981 - val_loss: 3.9061e-06 - val_accuracy: 1.0000\n",
      "Epoch 64/100\n",
      "66/66 [==============================] - 2s 30ms/step - loss: 0.0092 - accuracy: 0.9967 - val_loss: 2.1176e-18 - val_accuracy: 1.0000\n",
      "Epoch 65/100\n",
      "66/66 [==============================] - 2s 30ms/step - loss: 0.0223 - accuracy: 0.9962 - val_loss: 1.9497 - val_accuracy: 0.6913\n",
      "Epoch 66/100\n",
      "66/66 [==============================] - 2s 30ms/step - loss: 6.2442e-04 - accuracy: 0.9995 - val_loss: 0.0547 - val_accuracy: 0.9924\n",
      "Epoch 67/100\n",
      "66/66 [==============================] - 2s 30ms/step - loss: 1.8653e-05 - accuracy: 1.0000 - val_loss: 1.0946e-10 - val_accuracy: 1.0000\n",
      "Epoch 68/100\n",
      "66/66 [==============================] - 2s 31ms/step - loss: 6.0131e-05 - accuracy: 1.0000 - val_loss: 8.7359e-16 - val_accuracy: 1.0000\n",
      "Epoch 69/100\n",
      "66/66 [==============================] - 2s 31ms/step - loss: 9.9401e-09 - accuracy: 1.0000 - val_loss: 3.0178e-16 - val_accuracy: 1.0000\n",
      "Epoch 70/100\n",
      "66/66 [==============================] - 2s 30ms/step - loss: 0.0136 - accuracy: 0.9981 - val_loss: 199.1619 - val_accuracy: 0.6705\n",
      "Epoch 71/100\n",
      "66/66 [==============================] - 2s 30ms/step - loss: 0.0057 - accuracy: 0.9986 - val_loss: 0.3326 - val_accuracy: 0.9508\n",
      "Epoch 72/100\n",
      "66/66 [==============================] - 2s 30ms/step - loss: 0.0015 - accuracy: 0.9995 - val_loss: 6.5319e-07 - val_accuracy: 1.0000\n",
      "Epoch 73/100\n",
      "66/66 [==============================] - 2s 30ms/step - loss: 9.6543e-06 - accuracy: 1.0000 - val_loss: 1.2931e-12 - val_accuracy: 1.0000\n",
      "Epoch 74/100\n",
      "66/66 [==============================] - 2s 31ms/step - loss: 0.0111 - accuracy: 0.9967 - val_loss: 13.3553 - val_accuracy: 0.4943\n",
      "Epoch 75/100\n",
      "66/66 [==============================] - 2s 30ms/step - loss: 0.0031 - accuracy: 0.9991 - val_loss: 0.3859 - val_accuracy: 0.9015\n",
      "Epoch 76/100\n",
      "66/66 [==============================] - 2s 30ms/step - loss: 0.0100 - accuracy: 0.9981 - val_loss: 170.1379 - val_accuracy: 0.5777\n",
      "Epoch 77/100\n",
      "66/66 [==============================] - 2s 30ms/step - loss: 3.6340e-04 - accuracy: 1.0000 - val_loss: 290.8982 - val_accuracy: 0.5398\n",
      "Epoch 78/100\n",
      "66/66 [==============================] - 2s 30ms/step - loss: 0.0060 - accuracy: 0.9995 - val_loss: 1.7308e-08 - val_accuracy: 1.0000\n",
      "Epoch 79/100\n",
      "66/66 [==============================] - 2s 30ms/step - loss: 1.7320e-04 - accuracy: 1.0000 - val_loss: 1.6850e-05 - val_accuracy: 1.0000\n",
      "Epoch 80/100\n",
      "66/66 [==============================] - 2s 30ms/step - loss: 0.0131 - accuracy: 0.9986 - val_loss: 0.0049 - val_accuracy: 0.9962\n",
      "Epoch 81/100\n",
      "66/66 [==============================] - 2s 30ms/step - loss: 2.4533e-04 - accuracy: 1.0000 - val_loss: 6.7903e-18 - val_accuracy: 1.0000\n",
      "Epoch 82/100\n",
      "66/66 [==============================] - 2s 30ms/step - loss: 0.0036 - accuracy: 0.9995 - val_loss: 334.8232 - val_accuracy: 0.6648\n",
      "Epoch 83/100\n",
      "66/66 [==============================] - 2s 30ms/step - loss: 0.0024 - accuracy: 0.9995 - val_loss: 798.1840 - val_accuracy: 0.4943\n",
      "Epoch 84/100\n",
      "66/66 [==============================] - 2s 30ms/step - loss: 1.4899e-04 - accuracy: 1.0000 - val_loss: 6.0246e-11 - val_accuracy: 1.0000\n",
      "Epoch 85/100\n",
      "66/66 [==============================] - 2s 30ms/step - loss: 5.1183e-07 - accuracy: 1.0000 - val_loss: 8.6189e-21 - val_accuracy: 1.0000\n",
      "Epoch 86/100\n",
      "66/66 [==============================] - 2s 30ms/step - loss: 0.0088 - accuracy: 0.9986 - val_loss: 829.7334 - val_accuracy: 0.4943\n",
      "Epoch 87/100\n",
      "66/66 [==============================] - 2s 30ms/step - loss: 0.0173 - accuracy: 0.9972 - val_loss: 1802.8151 - val_accuracy: 0.5057\n",
      "Epoch 88/100\n",
      "66/66 [==============================] - 2s 30ms/step - loss: 0.0030 - accuracy: 0.9991 - val_loss: 169.4460 - val_accuracy: 0.5871\n",
      "Epoch 89/100\n",
      "66/66 [==============================] - 2s 30ms/step - loss: 0.0330 - accuracy: 0.9991 - val_loss: 1077.2710 - val_accuracy: 0.5057\n",
      "Epoch 90/100\n",
      "66/66 [==============================] - 2s 30ms/step - loss: 0.0576 - accuracy: 0.9972 - val_loss: 1488.7389 - val_accuracy: 0.5057\n",
      "Epoch 91/100\n",
      "66/66 [==============================] - 2s 30ms/step - loss: 0.0275 - accuracy: 0.9957 - val_loss: 5.6326 - val_accuracy: 0.8693\n",
      "Epoch 92/100\n",
      "66/66 [==============================] - 2s 30ms/step - loss: 7.4414e-05 - accuracy: 1.0000 - val_loss: 0.0000e+00 - val_accuracy: 1.0000\n",
      "Epoch 93/100\n",
      "66/66 [==============================] - 2s 30ms/step - loss: 0.0693 - accuracy: 0.9981 - val_loss: 2300.0251 - val_accuracy: 0.5057\n",
      "Epoch 94/100\n",
      "66/66 [==============================] - 2s 30ms/step - loss: 0.0132 - accuracy: 0.9972 - val_loss: 19.9778 - val_accuracy: 0.8902\n",
      "Epoch 95/100\n",
      "66/66 [==============================] - 2s 30ms/step - loss: 0.0087 - accuracy: 0.9991 - val_loss: 63.5555 - val_accuracy: 0.8371\n",
      "Epoch 96/100\n",
      "66/66 [==============================] - 2s 30ms/step - loss: 0.0039 - accuracy: 0.9986 - val_loss: 3.5422e-05 - val_accuracy: 1.0000\n",
      "Epoch 97/100\n",
      "66/66 [==============================] - 2s 30ms/step - loss: 0.0083 - accuracy: 0.9976 - val_loss: 4.7589 - val_accuracy: 0.5398\n",
      "Epoch 98/100\n",
      "66/66 [==============================] - 2s 30ms/step - loss: 0.0149 - accuracy: 0.9972 - val_loss: 0.0017 - val_accuracy: 1.0000\n",
      "Epoch 99/100\n",
      "66/66 [==============================] - 2s 30ms/step - loss: 7.5561e-04 - accuracy: 1.0000 - val_loss: 1.6787e-06 - val_accuracy: 1.0000\n",
      "Epoch 100/100\n",
      "66/66 [==============================] - 2s 30ms/step - loss: 0.0103 - accuracy: 0.9976 - val_loss: 2.3378e-13 - val_accuracy: 1.0000\n"
     ]
    }
   ],
   "source": [
    "history = model.fit(train_x, train_y, validation_data=(test_x,test_y), epochs = 100)"
   ]
  },
  {
   "cell_type": "code",
   "execution_count": 12,
   "metadata": {},
   "outputs": [
    {
     "data": {
      "image/png": "[encoded data removed]",
      "text/plain": [
       "<Figure size 640x480 with 1 Axes>"
      ]
     },
     "metadata": {},
     "output_type": "display_data"
    }
   ],
   "source": [
    "training_acc = history.history['accuracy']\n",
    "test_acc = history.history['val_accuracy']\n",
    "epoch_count = range(1, len(training_acc) + 1)\n",
    "plt.plot(epoch_count, training_acc, 'r--')\n",
    "plt.plot(epoch_count, test_acc, 'b-')\n",
    "plt.legend(['Training', 'Test'])\n",
    "plt.xlabel('Epoch')\n",
    "plt.ylabel('Accuracy')\n",
    "plt.show()"
   ]
  },
  {
   "cell_type": "code",
   "execution_count": 13,
   "metadata": {},
   "outputs": [
    {
     "name": "stdout",
     "output_type": "stream",
     "text": [
      "17/17 [==============================] - 0s 11ms/step - loss: 2.3378e-13 - accuracy: 1.0000\n",
      "17/17 [==============================] - 0s 10ms/step\n",
      "              precision    recall  f1-score   support\n",
      "\n",
      "           0       1.00      1.00      1.00       267\n",
      "           1       1.00      1.00      1.00       261\n",
      "\n",
      "    accuracy                           1.00       528\n",
      "   macro avg       1.00      1.00      1.00       528\n",
      "weighted avg       1.00      1.00      1.00       528\n",
      "\n"
     ]
    }
   ],
   "source": [
    "testing = model.evaluate(test_x, test_y)\n",
    "predictions = model.predict(test_x)\n",
    "pred_y = np.argmax(predictions, axis = 1)\n",
    "test_y = np.argmax(test_y, axis=1)\n",
    "print(classification_report(test_y,pred_y))"
   ]
  },
  {
   "cell_type": "code",
   "execution_count": 14,
   "metadata": {},
   "outputs": [
    {
     "name": "stdout",
     "output_type": "stream",
     "text": [
      "[[267   0]\n",
      " [  0 261]]\n"
     ]
    }
   ],
   "source": [
    "cm = confusion_matrix(test_y, pred_y)\n",
    "print(cm)"
   ]
  }
 ],
 "metadata": {
  "kernelspec": {
   "display_name": "Python 3",
   "language": "python",
   "name": "python3"
  },
  "language_info": {
   "codemirror_mode": {
    "name": "ipython",
    "version": 3
   },
   "file_extension": ".py",
   "mimetype": "text/x-python",
   "name": "python",
   "nbconvert_exporter": "python",
   "pygments_lexer": "ipython3",
   "version": "3.9.5"
  },
  "orig_nbformat": 4
 },
 "nbformat": 4,
 "nbformat_minor": 2
}
