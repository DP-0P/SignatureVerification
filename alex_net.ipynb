{
 "cells": [
  {
   "cell_type": "code",
   "execution_count": 8,
   "metadata": {},
   "outputs": [],
   "source": [
    "import os\n",
    "import cv2\n",
    "import numpy as np\n",
    "import pandas as pd\n",
    "from tqdm import tqdm\n",
    "import tensorflow as tf\n",
    "import matplotlib.pyplot as plt\n",
    "from sklearn.utils import shuffle\n",
    "from sklearn.compose import ColumnTransformer\n",
    "from sklearn.preprocessing import OneHotEncoder\n",
    "from sklearn.metrics import confusion_matrix\n",
    "from sklearn.metrics import classification_report\n",
    "from sklearn.model_selection import train_test_split\n",
    "from tensorflow.keras.layers import Dense\n",
    "from tensorflow.keras.layers import Dropout\n",
    "from tensorflow.keras.models import Sequential\n",
    "from tensorflow.keras.layers import Flatten, Conv2D, MaxPooling2D, Activation\n",
    "from tensorflow.keras.layers import BatchNormalization"
   ]
  },
  {
   "cell_type": "code",
   "execution_count": 9,
   "metadata": {},
   "outputs": [
    {
     "name": "stdout",
     "output_type": "stream",
     "text": [
      "Signatures in each category:\n",
      "genuine      887\n",
      "forgeries    734\n",
      "Name: sign type, dtype: int64\n"
     ]
    }
   ],
   "source": [
    "D1_LINEAR_GAUSIAN_227px = \"D://227px_LI_GB_D1/\"\n",
    "D2_LINEAR_GAUSIAN_227px = \"D://227px_LI_GB_D2/\"\n",
    "ds_type = D2_LINEAR_GAUSIAN_227px\n",
    "dataset_path = signature_types = os.listdir(ds_type)\n",
    "signs = []\n",
    "for item in signature_types:\n",
    "  all_signs = os.listdir(ds_type+\"/\"+item)\n",
    "  for sign in all_signs:\n",
    "    if sign.endswith(\".db\"):\n",
    "      pass\n",
    "    else: \n",
    "      signs.append((item, str(ds_type+\"/\"+item) + \"/\" + sign))\n",
    "signs_df = pd.DataFrame(data = signs, columns = [\"sign type\", \"image\"])\n",
    "sign_count = signs_df[\"sign type\"].value_counts()\n",
    "print(\"Signatures in each category:\")\n",
    "print(sign_count)"
   ]
  },
  {
   "cell_type": "code",
   "execution_count": 10,
   "metadata": {},
   "outputs": [
    {
     "name": "stderr",
     "output_type": "stream",
     "text": [
      "Processing forgeries: 100%|██████████| 734/734 [00:02<00:00, 261.55it/s]\n",
      "Processing genuine: 100%|██████████| 887/887 [00:03<00:00, 276.94it/s]\n"
     ]
    }
   ],
   "source": [
    "images = []\n",
    "labels = []\n",
    "for i in signature_types:\n",
    "  data_path = ds_type + str(i)\n",
    "  filenames = [i for i in os.listdir(data_path)]\n",
    "  for f in tqdm(filenames, desc=f\"Processing {i}\"):\n",
    "    if f.endswith(\".db\"):\n",
    "      pass\n",
    "    else:\n",
    "      img = cv2.imread(data_path + \"/\" + f)\n",
    "      images.append(img)\n",
    "      labels.append(i)"
   ]
  },
  {
   "cell_type": "code",
   "execution_count": 11,
   "metadata": {},
   "outputs": [],
   "source": [
    "images = np.array(images)\n",
    "images = images.astype('float32') / 255.0"
   ]
  },
  {
   "cell_type": "code",
   "execution_count": 12,
   "metadata": {},
   "outputs": [
    {
     "name": "stdout",
     "output_type": "stream",
     "text": [
      "(1621, 2)\n"
     ]
    }
   ],
   "source": [
    "y = signs_df['sign type'].values\n",
    "y = y.reshape(-1,1)\n",
    "columnTransformer = ColumnTransformer([('encoder', OneHotEncoder(), [0])], remainder='passthrough')\n",
    "Y=np.array(columnTransformer.fit_transform(y),dtype='float32')\n",
    "print(Y.shape)"
   ]
  },
  {
   "cell_type": "code",
   "execution_count": 13,
   "metadata": {},
   "outputs": [
    {
     "name": "stdout",
     "output_type": "stream",
     "text": [
      "(1296, 227, 227, 3)\n",
      "(325, 227, 227, 3)\n",
      "(1296, 2)\n",
      "(325, 2)\n"
     ]
    }
   ],
   "source": [
    "images, Y = shuffle(images,Y,random_state=42)\n",
    "train_x,test_x,train_y,test_y = train_test_split(images, Y, test_size=0.2, random_state=42)\n",
    "print(train_x.shape)\n",
    "print(test_x.shape)\n",
    "print(train_y.shape)\n",
    "print(test_y.shape)"
   ]
  },
  {
   "cell_type": "code",
   "execution_count": 14,
   "metadata": {},
   "outputs": [],
   "source": [
    "train_x = train_x / 255.0\n",
    "test_x = test_x / 255.0"
   ]
  },
  {
   "cell_type": "code",
   "execution_count": 15,
   "metadata": {},
   "outputs": [],
   "source": [
    "model = Sequential()\n",
    "model.add(Conv2D(filters=96,strides=(4,4), kernel_size=(11,11),padding='valid',input_shape=(227,227,3),activation='relu'))\n",
    "model.add(BatchNormalization())\n",
    "model.add(MaxPooling2D(pool_size=(3,3),strides=(2,2)))\n",
    "model.add(Conv2D(filters=256,strides=(1,1), kernel_size=(5,5),padding='valid',activation='relu'))\n",
    "model.add(MaxPooling2D(pool_size=(3,3),strides=(2,2)))\n",
    "model.add(Conv2D(filters=384,strides=(1,1), kernel_size=(3,3),padding='valid',activation='relu'))\n",
    "model.add(BatchNormalization())\n",
    "model.add(Conv2D(filters=384,strides=(1,1), kernel_size=(3,3),padding='valid',activation='relu'))\n",
    "model.add(BatchNormalization())\n",
    "model.add(Conv2D(filters=256,strides=(1,1), kernel_size=(3,3),padding='valid',activation='relu'))\n",
    "model.add(BatchNormalization())\n",
    "model.add(MaxPooling2D(pool_size=(3,3),strides=(2,2), padding='valid'))\n",
    "model.add(Flatten())\n",
    "model.add(Dense(units=4096, activation='relu'))\n",
    "model.add(Dropout(0.2))\n",
    "model.add(Dense(units=4096, activation='relu'))\n",
    "model.add(Dropout(0.2))\n",
    "model.add(Dense(units=2,activation='sigmoid'))"
   ]
  },
  {
   "cell_type": "code",
   "execution_count": 16,
   "metadata": {},
   "outputs": [],
   "source": [
    "# model.summary()"
   ]
  },
  {
   "cell_type": "code",
   "execution_count": 17,
   "metadata": {},
   "outputs": [],
   "source": [
    "model.compile(loss='binary_crossentropy',optimizer='adam',metrics=['accuracy'])"
   ]
  },
  {
   "cell_type": "code",
   "execution_count": 18,
   "metadata": {},
   "outputs": [
    {
     "name": "stdout",
     "output_type": "stream",
     "text": [
      "Epoch 1/100\n",
      "41/41 [==============================] - 10s 54ms/step - loss: 1.2243 - accuracy: 0.7269 - val_loss: 2.1723 - val_accuracy: 0.4462\n",
      "Epoch 2/100\n",
      "41/41 [==============================] - 1s 32ms/step - loss: 0.3596 - accuracy: 0.8565 - val_loss: 0.6884 - val_accuracy: 0.5538\n",
      "Epoch 3/100\n",
      "41/41 [==============================] - 1s 32ms/step - loss: 0.3035 - accuracy: 0.8704 - val_loss: 1.3121 - val_accuracy: 0.5538\n",
      "Epoch 4/100\n",
      "41/41 [==============================] - 1s 31ms/step - loss: 0.2568 - accuracy: 0.9020 - val_loss: 2.1207 - val_accuracy: 0.5538\n",
      "Epoch 5/100\n",
      "41/41 [==============================] - 1s 32ms/step - loss: 0.2380 - accuracy: 0.9074 - val_loss: 1.8250 - val_accuracy: 0.5538\n",
      "Epoch 6/100\n",
      "41/41 [==============================] - 1s 31ms/step - loss: 0.1940 - accuracy: 0.9290 - val_loss: 1.9110 - val_accuracy: 0.5538\n",
      "Epoch 7/100\n",
      "41/41 [==============================] - 1s 31ms/step - loss: 0.1781 - accuracy: 0.9336 - val_loss: 2.1650 - val_accuracy: 0.5538\n",
      "Epoch 8/100\n",
      "41/41 [==============================] - 1s 31ms/step - loss: 0.1620 - accuracy: 0.9352 - val_loss: 3.5572 - val_accuracy: 0.5538\n",
      "Epoch 9/100\n",
      "41/41 [==============================] - 1s 32ms/step - loss: 0.1329 - accuracy: 0.9576 - val_loss: 4.1566 - val_accuracy: 0.5538\n",
      "Epoch 10/100\n",
      "41/41 [==============================] - 1s 31ms/step - loss: 0.1294 - accuracy: 0.9498 - val_loss: 4.1239 - val_accuracy: 0.5538\n",
      "Epoch 11/100\n",
      "41/41 [==============================] - 1s 31ms/step - loss: 0.1141 - accuracy: 0.9568 - val_loss: 3.0331 - val_accuracy: 0.5538\n",
      "Epoch 12/100\n",
      "41/41 [==============================] - 1s 31ms/step - loss: 0.1368 - accuracy: 0.9506 - val_loss: 1.6108 - val_accuracy: 0.5538\n",
      "Epoch 13/100\n",
      "41/41 [==============================] - 1s 31ms/step - loss: 0.1070 - accuracy: 0.9637 - val_loss: 3.9981 - val_accuracy: 0.5538\n",
      "Epoch 14/100\n",
      "41/41 [==============================] - 1s 31ms/step - loss: 0.0998 - accuracy: 0.9699 - val_loss: 9.6514 - val_accuracy: 0.4462\n",
      "Epoch 15/100\n",
      "41/41 [==============================] - 1s 31ms/step - loss: 0.0835 - accuracy: 0.9730 - val_loss: 9.1461 - val_accuracy: 0.4462\n",
      "Epoch 16/100\n",
      "41/41 [==============================] - 1s 31ms/step - loss: 0.0736 - accuracy: 0.9730 - val_loss: 0.4817 - val_accuracy: 0.8769\n",
      "Epoch 17/100\n",
      "41/41 [==============================] - 1s 32ms/step - loss: 0.1014 - accuracy: 0.9637 - val_loss: 26.9379 - val_accuracy: 0.4462\n",
      "Epoch 18/100\n",
      "41/41 [==============================] - 1s 32ms/step - loss: 0.0499 - accuracy: 0.9807 - val_loss: 1.3406 - val_accuracy: 0.7077\n",
      "Epoch 19/100\n",
      "41/41 [==============================] - 1s 33ms/step - loss: 0.1058 - accuracy: 0.9676 - val_loss: 21.5111 - val_accuracy: 0.4462\n",
      "Epoch 20/100\n",
      "41/41 [==============================] - 1s 32ms/step - loss: 0.0770 - accuracy: 0.9738 - val_loss: 6.3483 - val_accuracy: 0.5538\n",
      "Epoch 21/100\n",
      "41/41 [==============================] - 1s 32ms/step - loss: 0.0791 - accuracy: 0.9722 - val_loss: 17.4400 - val_accuracy: 0.4462\n",
      "Epoch 22/100\n",
      "41/41 [==============================] - 1s 33ms/step - loss: 0.0685 - accuracy: 0.9769 - val_loss: 18.8886 - val_accuracy: 0.4462\n",
      "Epoch 23/100\n",
      "41/41 [==============================] - 1s 32ms/step - loss: 0.1000 - accuracy: 0.9715 - val_loss: 42.0813 - val_accuracy: 0.4462\n",
      "Epoch 24/100\n",
      "41/41 [==============================] - 1s 33ms/step - loss: 0.0680 - accuracy: 0.9730 - val_loss: 0.1982 - val_accuracy: 0.9631\n",
      "Epoch 25/100\n",
      "41/41 [==============================] - 1s 33ms/step - loss: 0.1158 - accuracy: 0.9637 - val_loss: 112.4941 - val_accuracy: 0.4462\n",
      "Epoch 26/100\n",
      "41/41 [==============================] - 1s 32ms/step - loss: 0.0939 - accuracy: 0.9707 - val_loss: 54.7276 - val_accuracy: 0.4462\n",
      "Epoch 27/100\n",
      "41/41 [==============================] - 1s 32ms/step - loss: 0.0389 - accuracy: 0.9861 - val_loss: 29.9001 - val_accuracy: 0.4462\n",
      "Epoch 28/100\n",
      "41/41 [==============================] - 1s 32ms/step - loss: 0.0685 - accuracy: 0.9853 - val_loss: 9.0713 - val_accuracy: 0.5538\n",
      "Epoch 29/100\n",
      "41/41 [==============================] - 1s 32ms/step - loss: 0.1081 - accuracy: 0.9660 - val_loss: 1.9850 - val_accuracy: 0.7262\n",
      "Epoch 30/100\n",
      "41/41 [==============================] - 1s 32ms/step - loss: 0.0658 - accuracy: 0.9792 - val_loss: 0.7233 - val_accuracy: 0.8523\n",
      "Epoch 31/100\n",
      "41/41 [==============================] - 1s 32ms/step - loss: 0.0241 - accuracy: 0.9907 - val_loss: 2.2212 - val_accuracy: 0.7138\n",
      "Epoch 32/100\n",
      "41/41 [==============================] - 1s 32ms/step - loss: 0.0101 - accuracy: 0.9961 - val_loss: 4.0047 - val_accuracy: 0.5938\n",
      "Epoch 33/100\n",
      "41/41 [==============================] - 1s 32ms/step - loss: 0.0834 - accuracy: 0.9776 - val_loss: 4.5931 - val_accuracy: 0.4954\n",
      "Epoch 34/100\n",
      "41/41 [==============================] - 1s 32ms/step - loss: 0.0798 - accuracy: 0.9761 - val_loss: 4.5758 - val_accuracy: 0.5785\n",
      "Epoch 35/100\n",
      "41/41 [==============================] - 1s 31ms/step - loss: 0.0392 - accuracy: 0.9884 - val_loss: 41.6569 - val_accuracy: 0.4462\n",
      "Epoch 36/100\n",
      "41/41 [==============================] - 1s 32ms/step - loss: 0.0217 - accuracy: 0.9954 - val_loss: 6.0218 - val_accuracy: 0.5538\n",
      "Epoch 37/100\n",
      "41/41 [==============================] - 1s 32ms/step - loss: 0.1961 - accuracy: 0.9429 - val_loss: 66.1500 - val_accuracy: 0.4462\n",
      "Epoch 38/100\n",
      "41/41 [==============================] - 1s 32ms/step - loss: 0.0420 - accuracy: 0.9846 - val_loss: 40.4148 - val_accuracy: 0.4462\n",
      "Epoch 39/100\n",
      "41/41 [==============================] - 1s 32ms/step - loss: 0.0666 - accuracy: 0.9823 - val_loss: 2.3299 - val_accuracy: 0.6862\n",
      "Epoch 40/100\n",
      "41/41 [==============================] - 1s 32ms/step - loss: 0.0631 - accuracy: 0.9769 - val_loss: 39.3967 - val_accuracy: 0.4462\n",
      "Epoch 41/100\n",
      "41/41 [==============================] - 1s 32ms/step - loss: 0.0125 - accuracy: 0.9961 - val_loss: 2.3342 - val_accuracy: 0.6831\n",
      "Epoch 42/100\n",
      "41/41 [==============================] - 1s 32ms/step - loss: 0.0050 - accuracy: 0.9992 - val_loss: 126.8115 - val_accuracy: 0.4462\n",
      "Epoch 43/100\n",
      "41/41 [==============================] - 1s 32ms/step - loss: 0.0036 - accuracy: 0.9992 - val_loss: 1.0475 - val_accuracy: 0.8985\n",
      "Epoch 44/100\n",
      "41/41 [==============================] - 1s 32ms/step - loss: 0.0378 - accuracy: 0.9931 - val_loss: 1.5307 - val_accuracy: 0.6831\n",
      "Epoch 45/100\n",
      "41/41 [==============================] - 1s 32ms/step - loss: 0.0506 - accuracy: 0.9776 - val_loss: 0.6729 - val_accuracy: 0.8062\n",
      "Epoch 46/100\n",
      "41/41 [==============================] - 1s 32ms/step - loss: 0.0434 - accuracy: 0.9869 - val_loss: 7.5966 - val_accuracy: 0.4862\n",
      "Epoch 47/100\n",
      "41/41 [==============================] - 1s 32ms/step - loss: 0.0276 - accuracy: 0.9946 - val_loss: 23.5802 - val_accuracy: 0.4462\n",
      "Epoch 48/100\n",
      "41/41 [==============================] - 1s 32ms/step - loss: 0.0015 - accuracy: 1.0000 - val_loss: 1.8011 - val_accuracy: 0.8369\n",
      "Epoch 49/100\n",
      "41/41 [==============================] - 1s 32ms/step - loss: 0.0623 - accuracy: 0.9838 - val_loss: 3.9309 - val_accuracy: 0.4400\n",
      "Epoch 50/100\n",
      "41/41 [==============================] - 1s 32ms/step - loss: 0.0197 - accuracy: 0.9954 - val_loss: 8.8226 - val_accuracy: 0.5538\n",
      "Epoch 51/100\n",
      "41/41 [==============================] - 1s 32ms/step - loss: 0.0268 - accuracy: 0.9923 - val_loss: 16.1421 - val_accuracy: 0.4462\n",
      "Epoch 52/100\n",
      "41/41 [==============================] - 1s 34ms/step - loss: 0.0374 - accuracy: 0.9900 - val_loss: 15.3773 - val_accuracy: 0.5538\n",
      "Epoch 53/100\n",
      "41/41 [==============================] - 1s 34ms/step - loss: 0.0344 - accuracy: 0.9900 - val_loss: 18.2343 - val_accuracy: 0.4554\n",
      "Epoch 54/100\n",
      "41/41 [==============================] - 1s 32ms/step - loss: 0.0333 - accuracy: 0.9907 - val_loss: 2.8710 - val_accuracy: 0.8031\n",
      "Epoch 55/100\n",
      "41/41 [==============================] - 1s 32ms/step - loss: 0.0436 - accuracy: 0.9877 - val_loss: 27.3902 - val_accuracy: 0.4462\n",
      "Epoch 56/100\n",
      "41/41 [==============================] - 1s 34ms/step - loss: 0.0123 - accuracy: 0.9961 - val_loss: 13.1289 - val_accuracy: 0.4646\n",
      "Epoch 57/100\n",
      "41/41 [==============================] - 1s 36ms/step - loss: 0.0380 - accuracy: 0.9907 - val_loss: 3.0036 - val_accuracy: 0.6338\n",
      "Epoch 58/100\n",
      "41/41 [==============================] - 1s 34ms/step - loss: 0.0160 - accuracy: 0.9954 - val_loss: 2.1150 - val_accuracy: 0.7508\n",
      "Epoch 59/100\n",
      "41/41 [==============================] - 1s 35ms/step - loss: 0.0214 - accuracy: 0.9907 - val_loss: 0.4734 - val_accuracy: 0.9292\n",
      "Epoch 60/100\n",
      "41/41 [==============================] - 1s 34ms/step - loss: 0.0048 - accuracy: 0.9985 - val_loss: 58.8624 - val_accuracy: 0.4462\n",
      "Epoch 61/100\n",
      "41/41 [==============================] - 1s 33ms/step - loss: 0.0250 - accuracy: 0.9938 - val_loss: 17.8036 - val_accuracy: 0.4615\n",
      "Epoch 62/100\n",
      "41/41 [==============================] - 1s 32ms/step - loss: 0.0495 - accuracy: 0.9838 - val_loss: 115.7363 - val_accuracy: 0.4462\n",
      "Epoch 63/100\n",
      "41/41 [==============================] - 1s 33ms/step - loss: 0.0356 - accuracy: 0.9884 - val_loss: 1.3851 - val_accuracy: 0.8246\n",
      "Epoch 64/100\n",
      "41/41 [==============================] - 1s 32ms/step - loss: 0.0113 - accuracy: 0.9961 - val_loss: 1.1915 - val_accuracy: 0.8800\n",
      "Epoch 65/100\n",
      "41/41 [==============================] - 1s 32ms/step - loss: 0.0146 - accuracy: 0.9961 - val_loss: 189.8143 - val_accuracy: 0.4462\n",
      "Epoch 66/100\n",
      "41/41 [==============================] - 1s 32ms/step - loss: 0.0051 - accuracy: 0.9985 - val_loss: 0.2361 - val_accuracy: 0.9631\n",
      "Epoch 67/100\n",
      "41/41 [==============================] - 1s 32ms/step - loss: 0.0071 - accuracy: 0.9977 - val_loss: 0.4515 - val_accuracy: 0.9323\n",
      "Epoch 68/100\n",
      "41/41 [==============================] - 1s 32ms/step - loss: 0.0070 - accuracy: 0.9985 - val_loss: 2.3441 - val_accuracy: 0.7938\n",
      "Epoch 69/100\n",
      "41/41 [==============================] - 1s 32ms/step - loss: 0.0079 - accuracy: 0.9977 - val_loss: 0.7627 - val_accuracy: 0.9169\n",
      "Epoch 70/100\n",
      "41/41 [==============================] - 1s 32ms/step - loss: 0.0347 - accuracy: 0.9915 - val_loss: 17.7309 - val_accuracy: 0.4677\n",
      "Epoch 71/100\n",
      "41/41 [==============================] - 1s 32ms/step - loss: 0.0311 - accuracy: 0.9861 - val_loss: 35.7119 - val_accuracy: 0.4462\n",
      "Epoch 72/100\n",
      "41/41 [==============================] - 1s 32ms/step - loss: 0.0300 - accuracy: 0.9907 - val_loss: 0.4771 - val_accuracy: 0.9138\n",
      "Epoch 73/100\n",
      "41/41 [==============================] - 1s 32ms/step - loss: 0.0497 - accuracy: 0.9877 - val_loss: 5.1795 - val_accuracy: 0.5785\n",
      "Epoch 74/100\n",
      "41/41 [==============================] - 1s 32ms/step - loss: 0.0243 - accuracy: 0.9915 - val_loss: 7.4831 - val_accuracy: 0.6000\n",
      "Epoch 75/100\n",
      "41/41 [==============================] - 1s 32ms/step - loss: 0.0424 - accuracy: 0.9884 - val_loss: 2.3452 - val_accuracy: 0.5877\n",
      "Epoch 76/100\n",
      "41/41 [==============================] - 1s 32ms/step - loss: 0.0264 - accuracy: 0.9877 - val_loss: 3.0623 - val_accuracy: 0.6308\n",
      "Epoch 77/100\n",
      "41/41 [==============================] - 1s 32ms/step - loss: 0.0272 - accuracy: 0.9938 - val_loss: 71.1838 - val_accuracy: 0.4462\n",
      "Epoch 78/100\n",
      "41/41 [==============================] - 1s 33ms/step - loss: 0.0334 - accuracy: 0.9877 - val_loss: 1.5734 - val_accuracy: 0.8277\n",
      "Epoch 79/100\n",
      "41/41 [==============================] - 1s 31ms/step - loss: 0.1066 - accuracy: 0.9707 - val_loss: 4.2396 - val_accuracy: 0.6708\n",
      "Epoch 80/100\n",
      "41/41 [==============================] - 1s 32ms/step - loss: 0.0639 - accuracy: 0.9792 - val_loss: 85.1215 - val_accuracy: 0.4462\n",
      "Epoch 81/100\n",
      "41/41 [==============================] - 1s 32ms/step - loss: 0.0508 - accuracy: 0.9807 - val_loss: 8.1024 - val_accuracy: 0.5692\n",
      "Epoch 82/100\n",
      "41/41 [==============================] - 1s 32ms/step - loss: 0.0212 - accuracy: 0.9931 - val_loss: 0.8637 - val_accuracy: 0.8554\n",
      "Epoch 83/100\n",
      "41/41 [==============================] - 1s 32ms/step - loss: 0.0111 - accuracy: 0.9954 - val_loss: 12.8922 - val_accuracy: 0.5631\n",
      "Epoch 84/100\n",
      "41/41 [==============================] - 1s 32ms/step - loss: 0.0079 - accuracy: 0.9985 - val_loss: 6.8918 - val_accuracy: 0.5877\n",
      "Epoch 85/100\n",
      "41/41 [==============================] - 1s 32ms/step - loss: 0.0220 - accuracy: 0.9907 - val_loss: 0.2918 - val_accuracy: 0.9385\n",
      "Epoch 86/100\n",
      "41/41 [==============================] - 1s 32ms/step - loss: 0.0118 - accuracy: 0.9969 - val_loss: 2.0714 - val_accuracy: 0.7938\n",
      "Epoch 87/100\n",
      "41/41 [==============================] - 1s 33ms/step - loss: 0.0178 - accuracy: 0.9961 - val_loss: 87.4904 - val_accuracy: 0.4462\n",
      "Epoch 88/100\n",
      "41/41 [==============================] - 1s 33ms/step - loss: 0.0418 - accuracy: 0.9869 - val_loss: 25.4122 - val_accuracy: 0.4462\n",
      "Epoch 89/100\n",
      "41/41 [==============================] - 1s 32ms/step - loss: 0.0314 - accuracy: 0.9923 - val_loss: 11.9470 - val_accuracy: 0.5569\n",
      "Epoch 90/100\n",
      "41/41 [==============================] - 1s 32ms/step - loss: 0.1059 - accuracy: 0.9753 - val_loss: 54.8031 - val_accuracy: 0.4462\n",
      "Epoch 91/100\n",
      "41/41 [==============================] - 1s 33ms/step - loss: 0.0345 - accuracy: 0.9877 - val_loss: 20.3686 - val_accuracy: 0.4092\n",
      "Epoch 92/100\n",
      "41/41 [==============================] - 1s 33ms/step - loss: 0.0215 - accuracy: 0.9923 - val_loss: 2.3039 - val_accuracy: 0.6277\n",
      "Epoch 93/100\n",
      "41/41 [==============================] - 1s 33ms/step - loss: 0.0110 - accuracy: 0.9961 - val_loss: 0.7036 - val_accuracy: 0.8400\n",
      "Epoch 94/100\n",
      "41/41 [==============================] - 1s 33ms/step - loss: 0.0018 - accuracy: 0.9992 - val_loss: 2.4556 - val_accuracy: 0.7446\n",
      "Epoch 95/100\n",
      "41/41 [==============================] - 1s 33ms/step - loss: 0.0104 - accuracy: 0.9969 - val_loss: 31.0538 - val_accuracy: 0.4646\n",
      "Epoch 96/100\n",
      "41/41 [==============================] - 1s 32ms/step - loss: 0.0111 - accuracy: 0.9969 - val_loss: 3.0706 - val_accuracy: 0.7385\n",
      "Epoch 97/100\n",
      "41/41 [==============================] - 1s 32ms/step - loss: 0.0185 - accuracy: 0.9931 - val_loss: 0.8402 - val_accuracy: 0.8646\n",
      "Epoch 98/100\n",
      "41/41 [==============================] - 1s 32ms/step - loss: 0.0015 - accuracy: 1.0000 - val_loss: 1.8001 - val_accuracy: 0.8400\n",
      "Epoch 99/100\n",
      "41/41 [==============================] - 1s 33ms/step - loss: 9.9266e-04 - accuracy: 0.9992 - val_loss: 0.4711 - val_accuracy: 0.9569\n",
      "Epoch 100/100\n",
      "41/41 [==============================] - 1s 32ms/step - loss: 0.0759 - accuracy: 0.9869 - val_loss: 3.5938 - val_accuracy: 0.6308\n"
     ]
    }
   ],
   "source": [
    "history = model.fit(train_x, train_y, validation_data=(test_x,test_y), epochs = 100)"
   ]
  },
  {
   "cell_type": "code",
   "execution_count": 19,
   "metadata": {},
   "outputs": [
    {
     "data": {
      "image/png": "[encoded data removed]",
      "text/plain": [
       "<Figure size 640x480 with 1 Axes>"
      ]
     },
     "metadata": {},
     "output_type": "display_data"
    }
   ],
   "source": [
    "training_acc = history.history['accuracy']\n",
    "test_acc = history.history['val_accuracy']\n",
    "epoch_count = range(1, len(training_acc) + 1)\n",
    "plt.plot(epoch_count, training_acc, 'r--')\n",
    "plt.plot(epoch_count, test_acc, 'b-')\n",
    "plt.legend(['Training', 'Test'])\n",
    "plt.xlabel('Epoch')\n",
    "plt.ylabel('Accuracy')\n",
    "plt.show()"
   ]
  },
  {
   "cell_type": "code",
   "execution_count": 20,
   "metadata": {},
   "outputs": [
    {
     "name": "stdout",
     "output_type": "stream",
     "text": [
      "11/11 [==============================] - 0s 13ms/step - loss: 3.5938 - accuracy: 0.6308\n",
      "11/11 [==============================] - 0s 9ms/step\n",
      "              precision    recall  f1-score   support\n",
      "\n",
      "           0       1.00      0.17      0.29       145\n",
      "           1       0.60      1.00      0.75       180\n",
      "\n",
      "    accuracy                           0.63       325\n",
      "   macro avg       0.80      0.59      0.52       325\n",
      "weighted avg       0.78      0.63      0.55       325\n",
      "\n"
     ]
    }
   ],
   "source": [
    "testing = model.evaluate(test_x, test_y)\n",
    "predictions = model.predict(test_x)\n",
    "pred_y = np.argmax(predictions, axis = 1)\n",
    "test_y = np.argmax(test_y, axis=1)\n",
    "print(classification_report(test_y,pred_y))"
   ]
  },
  {
   "cell_type": "code",
   "execution_count": 21,
   "metadata": {},
   "outputs": [
    {
     "name": "stdout",
     "output_type": "stream",
     "text": [
      "[[ 25 120]\n",
      " [  0 180]]\n"
     ]
    }
   ],
   "source": [
    "cm = confusion_matrix(test_y, pred_y)\n",
    "print(cm)"
   ]
  }
 ],
 "metadata": {
  "kernelspec": {
   "display_name": "Python 3",
   "language": "python",
   "name": "python3"
  },
  "language_info": {
   "codemirror_mode": {
    "name": "ipython",
    "version": 3
   },
   "file_extension": ".py",
   "mimetype": "text/x-python",
   "name": "python",
   "nbconvert_exporter": "python",
   "pygments_lexer": "ipython3",
   "version": "3.9.5"
  },
  "orig_nbformat": 4
 },
 "nbformat": 4,
 "nbformat_minor": 2
}
