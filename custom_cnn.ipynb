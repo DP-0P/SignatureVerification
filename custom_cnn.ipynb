{
 "cells": [
  {
   "attachments": {},
   "cell_type": "markdown",
   "metadata": {},
   "source": [
    "### IMPORTS"
   ]
  },
  {
   "cell_type": "code",
   "execution_count": null,
   "metadata": {},
   "outputs": [],
   "source": [
    "import os\n",
    "import cv2\n",
    "import numpy as np\n",
    "import pandas as pd\n",
    "from tqdm import tqdm\n",
    "import tensorflow as tf\n",
    "import matplotlib.pyplot as plt\n",
    "from sklearn.utils import shuffle\n",
    "from tensorflow.keras import layers, models\n",
    "from sklearn.compose import ColumnTransformer\n",
    "from sklearn.preprocessing import OneHotEncoder\n",
    "from sklearn.metrics import confusion_matrix\n",
    "from sklearn.metrics import classification_report\n",
    "from sklearn.model_selection import train_test_split"
   ]
  },
  {
   "attachments": {},
   "cell_type": "markdown",
   "metadata": {},
   "source": [
    "### SETTING THE DATASET PATH"
   ]
  },
  {
   "cell_type": "code",
   "execution_count": null,
   "metadata": {},
   "outputs": [],
   "source": [
    "## TYPES OF PRE-PROCESSED DS AVAILABLE:\n",
    "D1_LINEAR_GAUSIAN_250px = \"D://250px_LI_GB_D1/\"\n",
    "D1_LINEAR_GAUSIAN_300px = \"D://300px_LI_GB_D1/\"\n",
    "D2_LINEAR_GAUSIAN_250px = \"D://250px_LI_GB_D2/\"\n",
    "D2_LINEAR_GAUSIAN_300px = \"D://300px_LI_GB_D2/\"\n",
    "D2_CUBIC_GAUSIAN_250px = \"D://250px_CI_GB_D2/\"\n",
    "D1_D2_MIXED_250px = \"D://D1_D2_MIXED_250px/\"\n",
    "## ^ DATASET.NO_INTERPOLATION_BLUR-FILTER_IMG-SIZE ^\n",
    "\n",
    "#SELECTING DATASET\n",
    "\n",
    "ds_type = D2_LINEAR_GAUSIAN_250px\n",
    "input_size = int(str(ds_type)[4:7])\n",
    "input_dim = 3\n",
    "\n",
    "#SETTING THE PATH\n",
    "dataset_path = signature_types = os.listdir(ds_type)\n",
    "# print(signature_types)"
   ]
  },
  {
   "cell_type": "code",
   "execution_count": null,
   "metadata": {},
   "outputs": [],
   "source": [
    "print(\"Types of signatures: \", len(dataset_path))"
   ]
  },
  {
   "cell_type": "code",
   "execution_count": null,
   "metadata": {},
   "outputs": [],
   "source": [
    "signs = []\n",
    "for item in signature_types:\n",
    "  all_signs = os.listdir(ds_type+\"/\"+item)\n",
    "  for sign in all_signs:\n",
    "    if sign.endswith(\".db\"):\n",
    "      pass\n",
    "    else: \n",
    "      signs.append((item, str(ds_type+\"/\"+item) + \"/\" + sign))\n",
    "print(signs)"
   ]
  },
  {
   "cell_type": "code",
   "execution_count": null,
   "metadata": {},
   "outputs": [],
   "source": [
    "signs_df = pd.DataFrame(data = signs, columns = [\"sign type\", \"image\"])\n",
    "print(signs_df.head())"
   ]
  },
  {
   "cell_type": "code",
   "execution_count": null,
   "metadata": {},
   "outputs": [],
   "source": [
    "print(\"Total number of signs in the dataset: \", len(signs_df))"
   ]
  },
  {
   "cell_type": "code",
   "execution_count": null,
   "metadata": {},
   "outputs": [],
   "source": [
    "sign_count = signs_df[\"sign type\"].value_counts()\n",
    "print(\"Signatures in each category:\")\n",
    "print(sign_count)"
   ]
  },
  {
   "attachments": {},
   "cell_type": "markdown",
   "metadata": {},
   "source": [
    "### CREATING LIST ARRAY OF IMAGES WITH LABELS"
   ]
  },
  {
   "cell_type": "code",
   "execution_count": null,
   "metadata": {},
   "outputs": [],
   "source": [
    "images = []\n",
    "labels = []\n",
    "for i in signature_types:\n",
    "  data_path = ds_type + str(i)\n",
    "  filenames = [i for i in os.listdir(data_path)]\n",
    "  for f in tqdm(filenames, desc=f\"Processing {i}\"):\n",
    "    if f.endswith(\".db\"):\n",
    "      pass\n",
    "    else:\n",
    "      img = cv2.imread(data_path + \"/\" + f)\n",
    "      images.append(img)\n",
    "      labels.append(i)"
   ]
  },
  {
   "cell_type": "code",
   "execution_count": null,
   "metadata": {},
   "outputs": [],
   "source": [
    "print(labels)"
   ]
  },
  {
   "cell_type": "code",
   "execution_count": null,
   "metadata": {},
   "outputs": [],
   "source": [
    "images = np.array(images)\n",
    "images.shape"
   ]
  },
  {
   "cell_type": "code",
   "execution_count": null,
   "metadata": {},
   "outputs": [],
   "source": [
    "images = images.astype('float32') / 255.0"
   ]
  },
  {
   "cell_type": "code",
   "execution_count": null,
   "metadata": {},
   "outputs": [],
   "source": [
    "y = signs_df['sign type'].values\n",
    "y = y.reshape(-1,1)\n",
    "columnTransformer = ColumnTransformer([('encoder', OneHotEncoder(), [0])], remainder='passthrough')\n",
    "Y=np.array(columnTransformer.fit_transform(y),dtype='float32')\n",
    "print(Y.shape)"
   ]
  },
  {
   "attachments": {},
   "cell_type": "markdown",
   "metadata": {},
   "source": [
    "### SPLITTING THE DATASET (80 : 20)"
   ]
  },
  {
   "cell_type": "code",
   "execution_count": null,
   "metadata": {},
   "outputs": [],
   "source": [
    "images, Y = shuffle(images,Y,random_state=42)\n",
    "train_x,test_x,train_y,test_y = train_test_split(images, Y, test_size=0.2, random_state=42)\n",
    "print(train_x.shape)\n",
    "print(test_x.shape)\n",
    "print(train_y.shape)\n",
    "print(test_y.shape)"
   ]
  },
  {
   "cell_type": "code",
   "execution_count": null,
   "metadata": {},
   "outputs": [],
   "source": [
    "train_x = train_x / 255.0\n",
    "test_x = test_x / 255.0"
   ]
  },
  {
   "attachments": {},
   "cell_type": "markdown",
   "metadata": {},
   "source": [
    "### PROPOSED CNN MODEL (based on ijerph)"
   ]
  },
  {
   "cell_type": "code",
   "execution_count": null,
   "metadata": {},
   "outputs": [],
   "source": [
    "cnn = models.Sequential([\n",
    "     layers.Conv2D(filters=32, kernel_size=(3, 3), activation= 'relu', input_shape=(input_size, input_size, input_dim)),\n",
    "     layers.MaxPooling2D((2, 2)),\n",
    "     layers.BatchNormalization(),\n",
    "     layers.Conv2D(filters=32, kernel_size=(3, 3), activation= 'relu'),\n",
    "     layers.MaxPooling2D((2, 2)),\n",
    "     layers.BatchNormalization(),\n",
    "     layers.Conv2D(filters=64, kernel_size=(3, 3), activation= 'relu'),\n",
    "     layers.MaxPooling2D((2, 2)),\n",
    "     layers.Conv2D(filters=64, kernel_size=(3, 3), activation= 'relu'),\n",
    "     layers.Conv2D(filters=128, kernel_size=(3, 3), activation= 'relu'),\n",
    "     layers.MaxPooling2D((2, 2)),\n",
    "     layers.BatchNormalization(),\n",
    "     layers.Conv2D(filters=128, kernel_size=(3, 3), activation= 'relu'),\n",
    "     layers.MaxPooling2D((2, 2)),\n",
    "     layers.Conv2D(filters=256, kernel_size=(3, 3), activation= 'relu'),\n",
    "     layers.BatchNormalization(),\n",
    "     layers.Conv2D(filters=256, kernel_size=(3, 3), activation= 'relu'),\n",
    "     layers.GlobalAveragePooling2D(),\n",
    "     layers.BatchNormalization(),\n",
    "     layers.Dense(128, activation= 'sigmoid'),\n",
    "     layers.BatchNormalization(),\n",
    "     layers.Flatten(),\n",
    "     layers.Dropout(0.1),\n",
    "     layers.Dense(2, activation= 'softmax')\n",
    "     ])"
   ]
  },
  {
   "attachments": {},
   "cell_type": "markdown",
   "metadata": {},
   "source": [
    "### PROPOSED CNN MODEL (based on GWO)"
   ]
  },
  {
   "cell_type": "code",
   "execution_count": null,
   "metadata": {},
   "outputs": [],
   "source": [
    "# cnn = models.Sequential([\n",
    "#   layers.Conv2D(filters=55, kernel_size=(3, 3), activation= 'relu', input_shape=(250, 250, 3)),\n",
    "#   layers.MaxPooling2D((2, 2)),\n",
    "#   layers.Dropout(0.1),\n",
    "#   layers.Conv2D(filters=130, kernel_size=(3, 3), activation= 'relu'),\n",
    "#   layers.MaxPooling2D((2, 2)),\n",
    "#   layers.Dropout(0.1),\n",
    "#   layers.Conv2D(filters=155, kernel_size=(3, 3), activation= 'relu'),\n",
    "#   layers.MaxPooling2D((2, 2)),\n",
    "#   layers.Dropout(0.1),\n",
    "#   layers.Flatten(),\n",
    "#   layers.Dense(2, activation = 'softmax')\n",
    "#   ])"
   ]
  },
  {
   "cell_type": "code",
   "execution_count": null,
   "metadata": {},
   "outputs": [],
   "source": [
    "# opti = tf.keras.optimizers.SGD(learning_rate=0.001, momentum=0.8)\n",
    "# cnn.compile(optimizer=opti,loss='BinaryCrossentropy',metrics=['accuracy'])\n",
    "# cnn.compile(optimizer='adam',loss='BinaryCrossentropy',metrics=['accuracy'])\n",
    "cnn.compile(optimizer='adam',loss='CategoricalCrossentropy',metrics=['accuracy'])\n",
    "history = cnn.fit(train_x, train_y, validation_data=(test_x,test_y), epochs = 100)"
   ]
  },
  {
   "attachments": {},
   "cell_type": "markdown",
   "metadata": {},
   "source": [
    "### PLOTTING training_acc & testing_acc at each epoch"
   ]
  },
  {
   "cell_type": "code",
   "execution_count": null,
   "metadata": {},
   "outputs": [],
   "source": [
    "training_acc = history.history['accuracy']\n",
    "test_acc = history.history['val_accuracy']\n",
    "epoch_count = range(1, len(training_acc) + 1)\n",
    "plt.plot(epoch_count, training_acc, 'r--')\n",
    "plt.plot(epoch_count, test_acc, 'b-')\n",
    "plt.legend(['Training', 'Test'])\n",
    "plt.xlabel('Epoch')\n",
    "plt.ylabel('Accuracy')\n",
    "plt.show()"
   ]
  },
  {
   "cell_type": "code",
   "execution_count": null,
   "metadata": {},
   "outputs": [],
   "source": [
    "testing = cnn.evaluate(test_x, test_y)\n",
    "predictions = cnn.predict(test_x)\n",
    "pred_y = np.argmax(predictions, axis = 1)\n",
    "test_y = np.argmax(test_y, axis=1)\n",
    "print(classification_report(test_y,pred_y))"
   ]
  },
  {
   "cell_type": "code",
   "execution_count": null,
   "metadata": {},
   "outputs": [],
   "source": [
    "cm = confusion_matrix(test_y, pred_y)\n",
    "print(cm)"
   ]
  },
  {
   "attachments": {},
   "cell_type": "markdown",
   "metadata": {},
   "source": [
    "### OBSERVATIONS\n",
    "| DATASET USED            | Genuine / Forg   | random_state | Split Ratio | EPOCHS | CNN-1 (ijerph) ACC%, LOSS                        | CNN-2 (jksu) ACC%, LOSS|\n",
    "| ----------------------- |      :----:      | :----------: | :---------: | :----: | :-----------------------------------------:      | :-------------------: |\n",
    "| D1_LINEAR_GAUSIAN_250px | G: 1321, F: 1321 |     42       | 80:20       |   50   | TrA: 100, TeA: 100, TrL: 0.0004, TeL: 0.00005    | TrA: 50, TeA: 49, TrL: 0.69, TeL: 6.146 |\n",
    "| D2_LINEAR_GAUSIAN_250px | G: 887,  F: 734  |     42       | 80:20       |   50   | TrA: 99, TeA: 96, TrL: 0.02, TeL: 0.07           | --------------------------------------- |\n",
    "| D2_LINEAR_GAUSIAN_250px | G: 887,  F: 734  |     42       | 80:20       |   100   | TrA: 99, TeA: 92, TrL: 0.006, TeL: 0.27         | --------------------------------------- |"
   ]
  }
 ],
 "metadata": {
  "kernelspec": {
   "display_name": "Python 3",
   "language": "python",
   "name": "python3"
  },
  "language_info": {
   "codemirror_mode": {
    "name": "ipython",
    "version": 3
   },
   "file_extension": ".py",
   "mimetype": "text/x-python",
   "name": "python",
   "nbconvert_exporter": "python",
   "pygments_lexer": "ipython3",
   "version": "3.9.5"
  },
  "orig_nbformat": 4
 },
 "nbformat": 4,
 "nbformat_minor": 2
}
