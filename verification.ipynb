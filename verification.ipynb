{
 "cells": [
  {
   "attachments": {},
   "cell_type": "markdown",
   "metadata": {},
   "source": [
    "# Image Denoise"
   ]
  },
  {
   "cell_type": "code",
   "execution_count": 1,
   "metadata": {},
   "outputs": [
    {
     "name": "stderr",
     "output_type": "stream",
     "text": [
      "denoizzing...: 100%|██████████| 1321/1321 [01:00<00:00, 21.66it/s]\n",
      "denoizzing...: 100%|██████████| 1321/1321 [01:05<00:00, 20.30it/s]\n"
     ]
    }
   ],
   "source": [
    "from PIL import ImageFilter\n",
    "from tqdm import tqdm\n",
    "from os import listdir\n",
    "import os\n",
    "from PIL import Image\n",
    "\n",
    "def imageDenoise(location,newLocation):\n",
    "\tfor images in tqdm(os.listdir(location),desc='denoizzing...'):\n",
    "\t\tif images.endswith(\".png\"): \n",
    "\t\t\timg = Image.open(r\"\"+location+'/'+images)\n",
    "\t\t\timg = img.convert('RGB')\n",
    "\t\t\timg = img.filter(ImageFilter.SMOOTH_MORE)\n",
    "\t\t\timg = img.filter(ImageFilter.DETAIL)\n",
    "\t\t\timg.save(f'C:\\\\Users\\\\ASUS\\\\Desktop\\\\SDP\\\\modifiedSignatures\\\\{newLocation}\\\\'+'denoised'+images.capitalize()+'.png')\n",
    "\t\t\t\n",
    "imageDenoise('C:\\\\Users\\\\ASUS\\\\Desktop\\\\SDP\\\\signatures\\\\full_forg','denoisedForged')\n",
    "imageDenoise('C:\\\\Users\\\\ASUS\\\\Desktop\\\\SDP\\\\signatures\\\\full_org','denoisedOG')"
   ]
  },
  {
   "attachments": {},
   "cell_type": "markdown",
   "metadata": {},
   "source": [
    "# Image Resize"
   ]
  },
  {
   "cell_type": "code",
   "execution_count": 3,
   "metadata": {},
   "outputs": [
    {
     "name": "stderr",
     "output_type": "stream",
     "text": [
      "processing...: 100%|██████████| 1320/1320 [00:37<00:00, 35.62it/s]\n",
      "processing...: 100%|██████████| 1320/1320 [00:41<00:00, 31.71it/s]\n"
     ]
    }
   ],
   "source": [
    "def imageResize(location,newLocation):\n",
    "\tfor images in tqdm(os.listdir(location),desc='processing...'):\n",
    "\t\tif images.endswith(\".png\"):\n",
    "\t\t\timg = Image.open(r\"\"+location+'/'+images)\n",
    "\t\t\timg = img.resize((350,350))\n",
    "\t\t\timg.save(f'C:\\\\Users\\\\ASUS\\\\Desktop\\\\SDP\\\\modifiedSignatures\\\\{newLocation}\\\\'+'resized'+images.capitalize()+'.png')\n",
    "\n",
    "imageResize('C:\\\\Users\\\\ASUS\\\\Desktop\\\\SDP\\\\modifiedSignatures\\\\denoisedForged','modifiedDenoisedForged')\n",
    "imageResize('C:\\\\Users\\\\ASUS\\\\Desktop\\\\SDP\\\\modifiedSignatures\\\\denoisedOG','modifiedDenoisedOG')"
   ]
  }
 ],
 "metadata": {
  "kernelspec": {
   "display_name": "Python 3",
   "language": "python",
   "name": "python3"
  },
  "language_info": {
   "codemirror_mode": {
    "name": "ipython",
    "version": 3
   },
   "file_extension": ".py",
   "mimetype": "text/x-python",
   "name": "python",
   "nbconvert_exporter": "python",
   "pygments_lexer": "ipython3",
   "version": "3.11.2"
  },
  "orig_nbformat": 4
 },
 "nbformat": 4,
 "nbformat_minor": 2
}
